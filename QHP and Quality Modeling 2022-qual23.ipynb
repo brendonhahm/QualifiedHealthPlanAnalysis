{
 "cells": [
  {
   "cell_type": "code",
   "execution_count": 84,
   "metadata": {},
   "outputs": [],
   "source": [
    "import pandas as pd\n",
    "import numpy as np\n",
    "import matplotlib.pyplot as plt\n",
    "import seaborn as sns\n",
    "import scipy.stats as stats\n",
    "\n",
    "from sklearn.preprocessing import PolynomialFeatures\n",
    "from sklearn.linear_model import LinearRegression, Lasso, LogisticRegression\n",
    "from sklearn.ensemble import RandomForestClassifier\n",
    "from sklearn.tree import DecisionTreeClassifier\n",
    "from sklearn import tree\n",
    "\n",
    "from sklearn.model_selection import RepeatedStratifiedKFold\n",
    "from sklearn.model_selection import KFold\n",
    "from sklearn.model_selection import train_test_split\n",
    "from sklearn.model_selection import cross_val_score\n",
    "from sklearn.metrics import r2_score\n",
    "\n",
    "from sklearn.model_selection import RandomizedSearchCV\n",
    "from scipy.stats import uniform\n",
    "from sklearn.model_selection import GridSearchCV\n",
    "import statsmodels.api as sm\n",
    "\n",
    "\n",
    "from sklearn.decomposition import PCA\n",
    "from sklearn.preprocessing import StandardScaler, scale"
   ]
  },
  {
   "cell_type": "code",
   "execution_count": 2,
   "metadata": {},
   "outputs": [],
   "source": [
    "def percent2float(data):\n",
    "    output = []\n",
    "    for x in data:\n",
    "        output.append(float(x.strip('%'))/100)\n",
    "        \n",
    "    return output\n",
    "\n",
    "def str2int(data):\n",
    "    output = []\n",
    "    for x in data:\n",
    "        output.append(int(x))\n",
    "        \n",
    "    return output\n",
    "\n",
    "def money2int(data):\n",
    "    output = []\n",
    "    for x in data:\n",
    "        output.append(int(x.strip('$').replace(',', '')))\n",
    "        \n",
    "    return output"
   ]
  },
  {
   "cell_type": "code",
   "execution_count": 3,
   "metadata": {},
   "outputs": [],
   "source": [
    "qhp_data = pd.read_excel('data\\individual_qhp22.xlsx', sheet_name='Individual_Market_Medical')"
   ]
  },
  {
   "cell_type": "code",
   "execution_count": 4,
   "metadata": {
    "scrolled": true
   },
   "outputs": [
    {
     "data": {
      "text/html": [
       "<div>\n",
       "<style scoped>\n",
       "    .dataframe tbody tr th:only-of-type {\n",
       "        vertical-align: middle;\n",
       "    }\n",
       "\n",
       "    .dataframe tbody tr th {\n",
       "        vertical-align: top;\n",
       "    }\n",
       "\n",
       "    .dataframe thead th {\n",
       "        text-align: right;\n",
       "    }\n",
       "</style>\n",
       "<table border=\"1\" class=\"dataframe\">\n",
       "  <thead>\n",
       "    <tr style=\"text-align: right;\">\n",
       "      <th></th>\n",
       "      <th>State Code</th>\n",
       "      <th>FIPS County Code</th>\n",
       "      <th>County Name</th>\n",
       "      <th>Metal Level</th>\n",
       "      <th>Issuer Name</th>\n",
       "      <th>HIOS Issuer ID</th>\n",
       "      <th>Plan ID (Standard Component)</th>\n",
       "      <th>Plan Marketing Name</th>\n",
       "      <th>Plan Type</th>\n",
       "      <th>Rating Area</th>\n",
       "      <th>...</th>\n",
       "      <th>Drug Maximum Out Of Pocket - Family (Per Person) - 94 Percent</th>\n",
       "      <th>Primary Care Physician - 94 Percent</th>\n",
       "      <th>Specialist - 94 Percent</th>\n",
       "      <th>Emergency Room - 94 Percent</th>\n",
       "      <th>Inpatient Facility - 94 Percent</th>\n",
       "      <th>Inpatient Physician - 94 Percent</th>\n",
       "      <th>Generic Drugs - 94 Percent</th>\n",
       "      <th>Preferred Brand Drugs - 94 Percent</th>\n",
       "      <th>Non-preferred Brand Drugs - 94 Percent</th>\n",
       "      <th>Specialty Drugs - 94 Percent</th>\n",
       "    </tr>\n",
       "  </thead>\n",
       "  <tbody>\n",
       "    <tr>\n",
       "      <th>0</th>\n",
       "      <td>AK</td>\n",
       "      <td>2013</td>\n",
       "      <td>Aleutians East</td>\n",
       "      <td>Gold</td>\n",
       "      <td>Premera Blue Cross Blue Shield of Alaska</td>\n",
       "      <td>38344</td>\n",
       "      <td>38344AK1060001</td>\n",
       "      <td>Premera Blue Cross Preferred Gold 1500</td>\n",
       "      <td>PPO</td>\n",
       "      <td>Rating Area 2</td>\n",
       "      <td>...</td>\n",
       "      <td>NaN</td>\n",
       "      <td>NaN</td>\n",
       "      <td>NaN</td>\n",
       "      <td>NaN</td>\n",
       "      <td>NaN</td>\n",
       "      <td>NaN</td>\n",
       "      <td>NaN</td>\n",
       "      <td>NaN</td>\n",
       "      <td>NaN</td>\n",
       "      <td>NaN</td>\n",
       "    </tr>\n",
       "    <tr>\n",
       "      <th>1</th>\n",
       "      <td>AK</td>\n",
       "      <td>2013</td>\n",
       "      <td>Aleutians East</td>\n",
       "      <td>Silver</td>\n",
       "      <td>Premera Blue Cross Blue Shield of Alaska</td>\n",
       "      <td>38344</td>\n",
       "      <td>38344AK1060002</td>\n",
       "      <td>Premera Blue Cross Preferred Silver 4500</td>\n",
       "      <td>PPO</td>\n",
       "      <td>Rating Area 2</td>\n",
       "      <td>...</td>\n",
       "      <td>Included in Medical</td>\n",
       "      <td>$10</td>\n",
       "      <td>$40</td>\n",
       "      <td>30% Coinsurance after deductible</td>\n",
       "      <td>30% Coinsurance after deductible</td>\n",
       "      <td>30% Coinsurance after deductible</td>\n",
       "      <td>$15</td>\n",
       "      <td>$40</td>\n",
       "      <td>50% Coinsurance after deductible</td>\n",
       "      <td>40% Coinsurance after deductible</td>\n",
       "    </tr>\n",
       "    <tr>\n",
       "      <th>2</th>\n",
       "      <td>AK</td>\n",
       "      <td>2013</td>\n",
       "      <td>Aleutians East</td>\n",
       "      <td>Expanded Bronze</td>\n",
       "      <td>Premera Blue Cross Blue Shield of Alaska</td>\n",
       "      <td>38344</td>\n",
       "      <td>38344AK1060004</td>\n",
       "      <td>Premera Blue Cross Preferred Bronze 6350</td>\n",
       "      <td>PPO</td>\n",
       "      <td>Rating Area 2</td>\n",
       "      <td>...</td>\n",
       "      <td>NaN</td>\n",
       "      <td>NaN</td>\n",
       "      <td>NaN</td>\n",
       "      <td>NaN</td>\n",
       "      <td>NaN</td>\n",
       "      <td>NaN</td>\n",
       "      <td>NaN</td>\n",
       "      <td>NaN</td>\n",
       "      <td>NaN</td>\n",
       "      <td>NaN</td>\n",
       "    </tr>\n",
       "    <tr>\n",
       "      <th>3</th>\n",
       "      <td>AK</td>\n",
       "      <td>2013</td>\n",
       "      <td>Aleutians East</td>\n",
       "      <td>Silver</td>\n",
       "      <td>Premera Blue Cross Blue Shield of Alaska</td>\n",
       "      <td>38344</td>\n",
       "      <td>38344AK1070001</td>\n",
       "      <td>Premera Blue Cross Preferred Silver 3000 HSA</td>\n",
       "      <td>PPO</td>\n",
       "      <td>Rating Area 2</td>\n",
       "      <td>...</td>\n",
       "      <td>Included in Medical</td>\n",
       "      <td>30% Coinsurance after deductible</td>\n",
       "      <td>30% Coinsurance after deductible</td>\n",
       "      <td>30% Coinsurance after deductible</td>\n",
       "      <td>30% Coinsurance after deductible</td>\n",
       "      <td>30% Coinsurance after deductible</td>\n",
       "      <td>25% Coinsurance after deductible</td>\n",
       "      <td>30% Coinsurance after deductible</td>\n",
       "      <td>30% Coinsurance after deductible</td>\n",
       "      <td>40% Coinsurance after deductible</td>\n",
       "    </tr>\n",
       "    <tr>\n",
       "      <th>4</th>\n",
       "      <td>AK</td>\n",
       "      <td>2013</td>\n",
       "      <td>Aleutians East</td>\n",
       "      <td>Expanded Bronze</td>\n",
       "      <td>Premera Blue Cross Blue Shield of Alaska</td>\n",
       "      <td>38344</td>\n",
       "      <td>38344AK1070002</td>\n",
       "      <td>Premera Blue Cross Preferred Bronze 5800 HSA</td>\n",
       "      <td>PPO</td>\n",
       "      <td>Rating Area 2</td>\n",
       "      <td>...</td>\n",
       "      <td>NaN</td>\n",
       "      <td>NaN</td>\n",
       "      <td>NaN</td>\n",
       "      <td>NaN</td>\n",
       "      <td>NaN</td>\n",
       "      <td>NaN</td>\n",
       "      <td>NaN</td>\n",
       "      <td>NaN</td>\n",
       "      <td>NaN</td>\n",
       "      <td>NaN</td>\n",
       "    </tr>\n",
       "    <tr>\n",
       "      <th>...</th>\n",
       "      <td>...</td>\n",
       "      <td>...</td>\n",
       "      <td>...</td>\n",
       "      <td>...</td>\n",
       "      <td>...</td>\n",
       "      <td>...</td>\n",
       "      <td>...</td>\n",
       "      <td>...</td>\n",
       "      <td>...</td>\n",
       "      <td>...</td>\n",
       "      <td>...</td>\n",
       "      <td>...</td>\n",
       "      <td>...</td>\n",
       "      <td>...</td>\n",
       "      <td>...</td>\n",
       "      <td>...</td>\n",
       "      <td>...</td>\n",
       "      <td>...</td>\n",
       "      <td>...</td>\n",
       "      <td>...</td>\n",
       "      <td>...</td>\n",
       "    </tr>\n",
       "    <tr>\n",
       "      <th>109875</th>\n",
       "      <td>WY</td>\n",
       "      <td>56045</td>\n",
       "      <td>Weston</td>\n",
       "      <td>Expanded Bronze</td>\n",
       "      <td>Mountain Health CO-OP</td>\n",
       "      <td>38576</td>\n",
       "      <td>38576WY0020003</td>\n",
       "      <td>HIGH PLAINS IND BRONZE WY</td>\n",
       "      <td>PPO</td>\n",
       "      <td>Rating Area 3</td>\n",
       "      <td>...</td>\n",
       "      <td>NaN</td>\n",
       "      <td>NaN</td>\n",
       "      <td>NaN</td>\n",
       "      <td>NaN</td>\n",
       "      <td>NaN</td>\n",
       "      <td>NaN</td>\n",
       "      <td>NaN</td>\n",
       "      <td>NaN</td>\n",
       "      <td>NaN</td>\n",
       "      <td>NaN</td>\n",
       "    </tr>\n",
       "    <tr>\n",
       "      <th>109876</th>\n",
       "      <td>WY</td>\n",
       "      <td>56045</td>\n",
       "      <td>Weston</td>\n",
       "      <td>Expanded Bronze</td>\n",
       "      <td>Mountain Health CO-OP</td>\n",
       "      <td>38576</td>\n",
       "      <td>38576WY0020004</td>\n",
       "      <td>HIGH PLAINS IND BRONZE WY HSA</td>\n",
       "      <td>PPO</td>\n",
       "      <td>Rating Area 3</td>\n",
       "      <td>...</td>\n",
       "      <td>NaN</td>\n",
       "      <td>NaN</td>\n",
       "      <td>NaN</td>\n",
       "      <td>NaN</td>\n",
       "      <td>NaN</td>\n",
       "      <td>NaN</td>\n",
       "      <td>NaN</td>\n",
       "      <td>NaN</td>\n",
       "      <td>NaN</td>\n",
       "      <td>NaN</td>\n",
       "    </tr>\n",
       "    <tr>\n",
       "      <th>109877</th>\n",
       "      <td>WY</td>\n",
       "      <td>56045</td>\n",
       "      <td>Weston</td>\n",
       "      <td>Gold</td>\n",
       "      <td>Mountain Health CO-OP</td>\n",
       "      <td>38576</td>\n",
       "      <td>38576WY0020005</td>\n",
       "      <td>HIGH PLAINS IND GOLD WY BASE</td>\n",
       "      <td>PPO</td>\n",
       "      <td>Rating Area 3</td>\n",
       "      <td>...</td>\n",
       "      <td>NaN</td>\n",
       "      <td>NaN</td>\n",
       "      <td>NaN</td>\n",
       "      <td>NaN</td>\n",
       "      <td>NaN</td>\n",
       "      <td>NaN</td>\n",
       "      <td>NaN</td>\n",
       "      <td>NaN</td>\n",
       "      <td>NaN</td>\n",
       "      <td>NaN</td>\n",
       "    </tr>\n",
       "    <tr>\n",
       "      <th>109878</th>\n",
       "      <td>WY</td>\n",
       "      <td>56045</td>\n",
       "      <td>Weston</td>\n",
       "      <td>Silver</td>\n",
       "      <td>Mountain Health CO-OP</td>\n",
       "      <td>38576</td>\n",
       "      <td>38576WY0020006</td>\n",
       "      <td>HIGH PLAINS IND SILVER WY BASE</td>\n",
       "      <td>PPO</td>\n",
       "      <td>Rating Area 3</td>\n",
       "      <td>...</td>\n",
       "      <td>Included in Medical</td>\n",
       "      <td>$20</td>\n",
       "      <td>$40</td>\n",
       "      <td>20% Coinsurance after deductible</td>\n",
       "      <td>20% Coinsurance after deductible</td>\n",
       "      <td>20% Coinsurance after deductible</td>\n",
       "      <td>20%</td>\n",
       "      <td>30%</td>\n",
       "      <td>40%</td>\n",
       "      <td>50%</td>\n",
       "    </tr>\n",
       "    <tr>\n",
       "      <th>109879</th>\n",
       "      <td>WY</td>\n",
       "      <td>56045</td>\n",
       "      <td>Weston</td>\n",
       "      <td>Expanded Bronze</td>\n",
       "      <td>Mountain Health CO-OP</td>\n",
       "      <td>38576</td>\n",
       "      <td>38576WY0020007</td>\n",
       "      <td>HIGH PLAINS IND BRONZE WY BASE</td>\n",
       "      <td>PPO</td>\n",
       "      <td>Rating Area 3</td>\n",
       "      <td>...</td>\n",
       "      <td>NaN</td>\n",
       "      <td>NaN</td>\n",
       "      <td>NaN</td>\n",
       "      <td>NaN</td>\n",
       "      <td>NaN</td>\n",
       "      <td>NaN</td>\n",
       "      <td>NaN</td>\n",
       "      <td>NaN</td>\n",
       "      <td>NaN</td>\n",
       "      <td>NaN</td>\n",
       "    </tr>\n",
       "  </tbody>\n",
       "</table>\n",
       "<p>109880 rows × 148 columns</p>\n",
       "</div>"
      ],
      "text/plain": [
       "       State Code  FIPS County Code     County Name      Metal Level  \\\n",
       "0              AK              2013  Aleutians East             Gold   \n",
       "1              AK              2013  Aleutians East           Silver   \n",
       "2              AK              2013  Aleutians East  Expanded Bronze   \n",
       "3              AK              2013  Aleutians East           Silver   \n",
       "4              AK              2013  Aleutians East  Expanded Bronze   \n",
       "...           ...               ...             ...              ...   \n",
       "109875         WY             56045          Weston  Expanded Bronze   \n",
       "109876         WY             56045          Weston  Expanded Bronze   \n",
       "109877         WY             56045          Weston             Gold   \n",
       "109878         WY             56045          Weston           Silver   \n",
       "109879         WY             56045          Weston  Expanded Bronze   \n",
       "\n",
       "                                     Issuer Name  HIOS Issuer ID  \\\n",
       "0       Premera Blue Cross Blue Shield of Alaska           38344   \n",
       "1       Premera Blue Cross Blue Shield of Alaska           38344   \n",
       "2       Premera Blue Cross Blue Shield of Alaska           38344   \n",
       "3       Premera Blue Cross Blue Shield of Alaska           38344   \n",
       "4       Premera Blue Cross Blue Shield of Alaska           38344   \n",
       "...                                          ...             ...   \n",
       "109875                     Mountain Health CO-OP           38576   \n",
       "109876                     Mountain Health CO-OP           38576   \n",
       "109877                     Mountain Health CO-OP           38576   \n",
       "109878                     Mountain Health CO-OP           38576   \n",
       "109879                     Mountain Health CO-OP           38576   \n",
       "\n",
       "       Plan ID (Standard Component)  \\\n",
       "0                    38344AK1060001   \n",
       "1                    38344AK1060002   \n",
       "2                    38344AK1060004   \n",
       "3                    38344AK1070001   \n",
       "4                    38344AK1070002   \n",
       "...                             ...   \n",
       "109875               38576WY0020003   \n",
       "109876               38576WY0020004   \n",
       "109877               38576WY0020005   \n",
       "109878               38576WY0020006   \n",
       "109879               38576WY0020007   \n",
       "\n",
       "                                 Plan Marketing Name Plan Type    Rating Area  \\\n",
       "0             Premera Blue Cross Preferred Gold 1500       PPO  Rating Area 2   \n",
       "1           Premera Blue Cross Preferred Silver 4500       PPO  Rating Area 2   \n",
       "2           Premera Blue Cross Preferred Bronze 6350       PPO  Rating Area 2   \n",
       "3       Premera Blue Cross Preferred Silver 3000 HSA       PPO  Rating Area 2   \n",
       "4       Premera Blue Cross Preferred Bronze 5800 HSA       PPO  Rating Area 2   \n",
       "...                                              ...       ...            ...   \n",
       "109875                     HIGH PLAINS IND BRONZE WY       PPO  Rating Area 3   \n",
       "109876                 HIGH PLAINS IND BRONZE WY HSA       PPO  Rating Area 3   \n",
       "109877                  HIGH PLAINS IND GOLD WY BASE       PPO  Rating Area 3   \n",
       "109878                HIGH PLAINS IND SILVER WY BASE       PPO  Rating Area 3   \n",
       "109879                HIGH PLAINS IND BRONZE WY BASE       PPO  Rating Area 3   \n",
       "\n",
       "        ... Drug Maximum Out Of Pocket - Family (Per Person) - 94 Percent  \\\n",
       "0       ...                                                NaN              \n",
       "1       ...                                Included in Medical              \n",
       "2       ...                                                NaN              \n",
       "3       ...                                Included in Medical              \n",
       "4       ...                                                NaN              \n",
       "...     ...                                                ...              \n",
       "109875  ...                                                NaN              \n",
       "109876  ...                                                NaN              \n",
       "109877  ...                                                NaN              \n",
       "109878  ...                                Included in Medical              \n",
       "109879  ...                                                NaN              \n",
       "\n",
       "       Primary Care Physician - 94 Percent           Specialist - 94 Percent  \\\n",
       "0                                      NaN                               NaN   \n",
       "1                                      $10                               $40   \n",
       "2                                      NaN                               NaN   \n",
       "3         30% Coinsurance after deductible  30% Coinsurance after deductible   \n",
       "4                                      NaN                               NaN   \n",
       "...                                    ...                               ...   \n",
       "109875                                 NaN                               NaN   \n",
       "109876                                 NaN                               NaN   \n",
       "109877                                 NaN                               NaN   \n",
       "109878                                 $20                               $40   \n",
       "109879                                 NaN                               NaN   \n",
       "\n",
       "             Emergency Room - 94 Percent   Inpatient Facility - 94 Percent  \\\n",
       "0                                    NaN                               NaN   \n",
       "1       30% Coinsurance after deductible  30% Coinsurance after deductible   \n",
       "2                                    NaN                               NaN   \n",
       "3       30% Coinsurance after deductible  30% Coinsurance after deductible   \n",
       "4                                    NaN                               NaN   \n",
       "...                                  ...                               ...   \n",
       "109875                               NaN                               NaN   \n",
       "109876                               NaN                               NaN   \n",
       "109877                               NaN                               NaN   \n",
       "109878  20% Coinsurance after deductible  20% Coinsurance after deductible   \n",
       "109879                               NaN                               NaN   \n",
       "\n",
       "        Inpatient Physician - 94 Percent        Generic Drugs - 94 Percent  \\\n",
       "0                                    NaN                               NaN   \n",
       "1       30% Coinsurance after deductible                               $15   \n",
       "2                                    NaN                               NaN   \n",
       "3       30% Coinsurance after deductible  25% Coinsurance after deductible   \n",
       "4                                    NaN                               NaN   \n",
       "...                                  ...                               ...   \n",
       "109875                               NaN                               NaN   \n",
       "109876                               NaN                               NaN   \n",
       "109877                               NaN                               NaN   \n",
       "109878  20% Coinsurance after deductible                               20%   \n",
       "109879                               NaN                               NaN   \n",
       "\n",
       "       Preferred Brand Drugs - 94 Percent  \\\n",
       "0                                     NaN   \n",
       "1                                     $40   \n",
       "2                                     NaN   \n",
       "3        30% Coinsurance after deductible   \n",
       "4                                     NaN   \n",
       "...                                   ...   \n",
       "109875                                NaN   \n",
       "109876                                NaN   \n",
       "109877                                NaN   \n",
       "109878                                30%   \n",
       "109879                                NaN   \n",
       "\n",
       "       Non-preferred Brand Drugs - 94 Percent  \\\n",
       "0                                         NaN   \n",
       "1            50% Coinsurance after deductible   \n",
       "2                                         NaN   \n",
       "3            30% Coinsurance after deductible   \n",
       "4                                         NaN   \n",
       "...                                       ...   \n",
       "109875                                    NaN   \n",
       "109876                                    NaN   \n",
       "109877                                    NaN   \n",
       "109878                                    40%   \n",
       "109879                                    NaN   \n",
       "\n",
       "            Specialty Drugs - 94 Percent  \n",
       "0                                    NaN  \n",
       "1       40% Coinsurance after deductible  \n",
       "2                                    NaN  \n",
       "3       40% Coinsurance after deductible  \n",
       "4                                    NaN  \n",
       "...                                  ...  \n",
       "109875                               NaN  \n",
       "109876                               NaN  \n",
       "109877                               NaN  \n",
       "109878                               50%  \n",
       "109879                               NaN  \n",
       "\n",
       "[109880 rows x 148 columns]"
      ]
     },
     "execution_count": 4,
     "metadata": {},
     "output_type": "execute_result"
    }
   ],
   "source": [
    "qhp_data"
   ]
  },
  {
   "cell_type": "code",
   "execution_count": 5,
   "metadata": {},
   "outputs": [
    {
     "name": "stdout",
     "output_type": "stream",
     "text": [
      "0.49324324324324326  of the columns have no nans\n"
     ]
    }
   ],
   "source": [
    "print(len(qhp_data.isna().any()[qhp_data.isna().any() == False])/len(qhp_data.columns), \" of the columns have no nans\")"
   ]
  },
  {
   "cell_type": "code",
   "execution_count": 6,
   "metadata": {},
   "outputs": [
    {
     "name": "stdout",
     "output_type": "stream",
     "text": [
      "State Code\n",
      "FIPS County Code\n",
      "County Name\n",
      "Metal Level\n",
      "Issuer Name\n",
      "HIOS Issuer ID\n",
      "Plan ID (Standard Component)\n",
      "Plan Marketing Name\n",
      "Plan Type\n",
      "Rating Area\n",
      "Child Only Offering\n",
      "Source\n",
      "Customer Service Phone Number Local\n",
      "Customer Service Phone Number Toll Free\n",
      "Customer Service Phone Number TTY\n",
      "Network URL\n",
      "Plan Brochure URL\n",
      "Summary of Benefits URL\n",
      "Drug Formulary URL\n",
      "Adult Dental \n",
      "Child Dental \n",
      "EHB Percent of Total Premium\n",
      "Premium Scenarios\n",
      "Premium Child Age 0-14\n",
      "Premium Child Age 18\n",
      "Premium Adult Individual Age 21\n",
      "Premium Adult Individual Age 27\n",
      "Premium Adult Individual Age 30 \n",
      "Premium Adult Individual Age 40 \n",
      "Premium Adult Individual Age 50 \n",
      "Premium Adult Individual Age 60 \n",
      "Premium Couple 21  \n",
      "Premium Couple 30 \n",
      "Premium Couple 40 \n",
      "Premium Couple 50 \n",
      "Premium Couple 60 \n",
      "Couple+1 child, Age 21\n",
      "Couple+1 child, Age 30 \n",
      "Couple+1 child, Age 40 \n",
      "Couple+1 child, Age 50 \n",
      "Couple+2 children, Age 21\n",
      "Couple+2 children, Age 30 \n",
      "Couple+2 children, Age 40 \n",
      "Couple+2 children, Age 50\n",
      "Couple+3 or more Children, Age 21\n",
      "Couple+3 or more Children, Age 30\n",
      "Couple+3 or more Children, Age 40\n",
      "Couple+3 or more Children, Age 50\n",
      "Individual+1 child, Age 21\n",
      "Individual+1 child, Age 30\n",
      "Individual+1 child, Age 40\n",
      "Individual+1 child, Age 50\n",
      "Individual+2 children, Age 21\n",
      "Individual+2 children, Age 30\n",
      "Individual+2 children, Age 40\n",
      "Individual+2 children, Age 50\n",
      "Individual+3 or more children, Age 21\n",
      "Individual+3 or more children, Age 30\n",
      "Individual+3 or more children, Age 40\n",
      "Individual+3 or more children, Age 50\n",
      "Standard Plan Cost Sharing\n",
      "Medical Deductible - Individual - Standard\n",
      "Drug Deductible - Individual - Standard\n",
      "Medical Deductible - Family - Standard\n",
      "Drug Deductible - Family - Standard\n",
      "Medical Deductible - Family (Per Person) - Standard\n",
      "Drug Deductible - Family (Per Person) - Standard\n",
      "Medical Maximum Out Of Pocket - Individual - Standard\n",
      "Drug Maximum Out Of Pocket - Individual - Standard\n",
      "Medical Maximum Out Of Pocket - Family - Standard\n",
      "Drug Maximum Out Of Pocket - Family - Standard\n",
      "Medical Maximum Out Of Pocket - Family (Per Person) - Standard\n",
      "Drug Maximum Out Of Pocket - Family (Per Person) - Standard\n",
      "Primary Care Physician - Standard\n",
      "Specialist - Standard\n",
      "Emergency Room - Standard\n",
      "Inpatient Facility - Standard\n",
      "Inpatient Physician - Standard\n",
      "Generic Drugs - Standard\n",
      "Preferred Brand Drugs - Standard\n",
      "Non-preferred Brand Drugs - Standard\n",
      "Specialty Drugs - Standard\n",
      "73 Percent Actuarial Value Silver Plan Cost Sharing\n",
      "Medical Deductible - Individual - 73 Percent\n",
      "Drug Deductible - Individual - 73 Percent\n",
      "Medical Deductible - Family - 73 Percent\n",
      "Drug Deductible - Family - 73 Percent\n",
      "Medical Deductible - Family (Per Person) - 73 Percent\n",
      "Drug Deductible - Family (Per Person) - 73 Percent\n",
      "Medical Maximum Out Of Pocket - Individual - 73 Percent\n",
      "Drug Maximum Out Of Pocket - Individual - 73 Percent\n",
      "Medical Maximum Out Of Pocket - Family - 73 Percent\n",
      "Drug Maximum Out Of Pocket - Family - 73 Percent\n",
      "Medical Maximum Out Of Pocket - Family (Per Person) - 73 Percent\n",
      "Drug Maximum Out Of Pocket - Family (Per Person) - 73 Percent\n",
      "Primary Care Physician - 73 Percent\n",
      "Specialist - 73 Percent\n",
      "Emergency Room - 73 Percent\n",
      "Inpatient Facility - 73 Percent\n",
      "Inpatient Physician - 73 Percent\n",
      "Generic Drugs - 73 Percent\n",
      "Preferred Brand Drugs - 73 Percent\n",
      "Non-preferred Brand Drugs - 73 Percent\n",
      "Specialty Drugs - 73 Percent\n",
      "87 Percent Actuarial Value Silver Plan Cost Sharing\n",
      "Medical Deductible - Individual - 87 Percent\n",
      "Drug Deductible - Individual - 87 Percent\n",
      "Medical Deductible - Family - 87 Percent\n",
      "Drug Deductible - Family - 87 Percent\n",
      "Medical Deductible - Family (Per Person) - 87 Percent\n",
      "Drug Deductible - Family (Per Person) - 87 Percent\n",
      "Medical Maximum Out Of Pocket - Individual - 87 Percent\n",
      "Drug Maximum Out Of Pocket - Individual - 87 Percent\n",
      "Medical Maximum Out Of Pocket - Family - 87 Percent\n",
      "Drug Maximum Out Of Pocket - Family - 87 Percent\n",
      "Medical Maximum Out Of Pocket - Family (Per Person) - 87 Percent\n",
      "Drug Maximum Out Of Pocket - Family (Per Person) - 87 Percent\n",
      "Primary Care Physician - 87 Percent\n",
      "Specialist - 87 Percent\n",
      "Emergency Room - 87 Percent\n",
      "Inpatient Facility - 87 Percent\n",
      "Inpatient Physician - 87 Percent\n",
      "Generic Drugs - 87 Percent\n",
      "Preferred Brand Drugs - 87 Percent\n",
      "Non-preferred Brand Drugs - 87 Percent\n",
      "Specialty Drugs - 87 Percent\n",
      "94 Percent Actuarial Value Silver Plan Cost Sharing\n",
      "Medical Deductible - Individual - 94 Percent\n",
      "Drug Deductible - Individual - 94 Percent\n",
      "Medical Deductible - Family - 94 Percent\n",
      "Drug Deductible - Family - 94 Percent\n",
      "Medical Deductible - Family (Per Person) - 94 Percent\n",
      "Drug Deductible - Family (Per Person) - 94 Percent\n",
      "Medical Maximum Out Of Pocket -individual - 94 Percent\n",
      "Drug Maximum Out Of Pocket - individual - 94 Percent\n",
      "Medical Maximum Out Of Pocket - family - 94 Percent\n",
      "Drug Maximum Out Of Pocket - Family  - 94 Percent\n",
      "Medical Maximum Out Of Pocket - Family (Per Person) - 94 Percent\n",
      "Drug Maximum Out Of Pocket - Family (Per Person) - 94 Percent\n",
      "Primary Care Physician - 94 Percent\n",
      "Specialist - 94 Percent\n",
      "Emergency Room - 94 Percent\n",
      "Inpatient Facility - 94 Percent\n",
      "Inpatient Physician - 94 Percent\n",
      "Generic Drugs - 94 Percent\n",
      "Preferred Brand Drugs - 94 Percent\n",
      "Non-preferred Brand Drugs - 94 Percent\n",
      "Specialty Drugs - 94 Percent\n"
     ]
    }
   ],
   "source": [
    "for col in qhp_data.columns:\n",
    "    print(col)"
   ]
  },
  {
   "cell_type": "code",
   "execution_count": 7,
   "metadata": {},
   "outputs": [],
   "source": [
    "#fixing dental columns\n",
    "qhp_data['Adult Dental '] = qhp_data['Adult Dental '].fillna(0)\n",
    "qhp_data['Child Dental '] = qhp_data['Adult Dental '].fillna(0)"
   ]
  },
  {
   "cell_type": "code",
   "execution_count": 8,
   "metadata": {},
   "outputs": [],
   "source": [
    "qhp_data = qhp_data.replace('X', 1)"
   ]
  },
  {
   "cell_type": "code",
   "execution_count": 9,
   "metadata": {},
   "outputs": [
    {
     "name": "stdout",
     "output_type": "stream",
     "text": [
      "0    90232\n",
      "1    19648\n",
      "Name: Adult Dental , dtype: int64\n",
      "0    90232\n",
      "1    19648\n",
      "Name: Child Dental , dtype: int64\n"
     ]
    }
   ],
   "source": [
    "print(qhp_data['Adult Dental '].value_counts())\n",
    "print(qhp_data['Child Dental '].value_counts())"
   ]
  },
  {
   "cell_type": "code",
   "execution_count": 10,
   "metadata": {},
   "outputs": [
    {
     "data": {
      "text/plain": [
       "<matplotlib.axes._subplots.AxesSubplot at 0x18d780f3e08>"
      ]
     },
     "execution_count": 10,
     "metadata": {},
     "output_type": "execute_result"
    },
    {
     "data": {
      "image/png": "[encoded data removed]",
      "text/plain": [
       "<Figure size 432x288 with 2 Axes>"
      ]
     },
     "metadata": {
      "needs_background": "light"
     },
     "output_type": "display_data"
    }
   ],
   "source": [
    "sns.heatmap(qhp_data.isnull())"
   ]
  },
  {
   "cell_type": "code",
   "execution_count": 11,
   "metadata": {},
   "outputs": [
    {
     "data": {
      "text/plain": [
       "Series([], Name: 73 Percent Actuarial Value Silver Plan Cost Sharing, dtype: int64)"
      ]
     },
     "execution_count": 11,
     "metadata": {},
     "output_type": "execute_result"
    }
   ],
   "source": [
    "qhp_data['73 Percent Actuarial Value Silver Plan Cost Sharing'].value_counts()"
   ]
  },
  {
   "cell_type": "code",
   "execution_count": 12,
   "metadata": {},
   "outputs": [
    {
     "data": {
      "text/plain": [
       "Index(['Premium Scenarios', 'Standard Plan Cost Sharing',\n",
       "       '73 Percent Actuarial Value Silver Plan Cost Sharing',\n",
       "       '87 Percent Actuarial Value Silver Plan Cost Sharing',\n",
       "       '94 Percent Actuarial Value Silver Plan Cost Sharing'],\n",
       "      dtype='object')"
      ]
     },
     "execution_count": 12,
     "metadata": {},
     "output_type": "execute_result"
    }
   ],
   "source": [
    "qhp_data.loc[:, qhp_data.isna().all()].columns"
   ]
  },
  {
   "cell_type": "code",
   "execution_count": 13,
   "metadata": {},
   "outputs": [
    {
     "name": "stdout",
     "output_type": "stream",
     "text": [
      "(109880, 143)\n",
      "(25498, 143)\n"
     ]
    }
   ],
   "source": [
    "#drop null columns\n",
    "qhp = qhp_data.drop(['Premium Scenarios', 'Standard Plan Cost Sharing', '73 Percent Actuarial Value Silver Plan Cost Sharing', '87 Percent Actuarial Value Silver Plan Cost Sharing', '94 Percent Actuarial Value Silver Plan Cost Sharing'], axis = 1)\n",
    "\n",
    "#observe reduction if we just dropped all rows with NaNs\n",
    "print(qhp.shape)\n",
    "print(qhp.dropna().shape)"
   ]
  },
  {
   "cell_type": "code",
   "execution_count": 14,
   "metadata": {},
   "outputs": [],
   "source": [
    "plan_ids = set(qhp['Plan ID (Standard Component)'])\n",
    "for plan in plan_ids:\n",
    "    ehbs = qhp[qhp['Plan ID (Standard Component)'] == plan]['EHB Percent of Total Premium']\n",
    "    \n",
    "    if len(set(ehbs)) > 1:\n",
    "        print('EHBs vary within plan id')\n",
    "        break"
   ]
  },
  {
   "cell_type": "code",
   "execution_count": 15,
   "metadata": {},
   "outputs": [
    {
     "data": {
      "text/plain": [
       "<matplotlib.axes._subplots.AxesSubplot at 0x18d091ab7c8>"
      ]
     },
     "execution_count": 15,
     "metadata": {},
     "output_type": "execute_result"
    },
    {
     "data": {
      "image/png": "[encoded data removed]",
      "text/plain": [
       "<Figure size 432x288 with 2 Axes>"
      ]
     },
     "metadata": {
      "needs_background": "light"
     },
     "output_type": "display_data"
    }
   ],
   "source": [
    "cols = []\n",
    "for col in qhp.columns:\n",
    "    if col == 'EHB Percent of Total Premium':\n",
    "        cols.append(col)\n",
    "        break\n",
    "    cols.append(col)\n",
    "\n",
    "qhp = qhp[cols]\n",
    "sns.heatmap(qhp.isnull())"
   ]
  },
  {
   "cell_type": "code",
   "execution_count": 16,
   "metadata": {},
   "outputs": [
    {
     "data": {
      "text/plain": [
       "Index(['State Code', 'FIPS County Code', 'County Name', 'Metal Level',\n",
       "       'Issuer Name', 'HIOS Issuer ID', 'Plan ID (Standard Component)',\n",
       "       'Plan Marketing Name', 'Plan Type', 'Rating Area',\n",
       "       'Child Only Offering', 'Source', 'Customer Service Phone Number Local',\n",
       "       'Customer Service Phone Number Toll Free',\n",
       "       'Customer Service Phone Number TTY', 'Network URL', 'Plan Brochure URL',\n",
       "       'Summary of Benefits URL', 'Drug Formulary URL', 'Adult Dental ',\n",
       "       'Child Dental ', 'EHB Percent of Total Premium'],\n",
       "      dtype='object')"
      ]
     },
     "execution_count": 16,
     "metadata": {},
     "output_type": "execute_result"
    }
   ],
   "source": [
    "qhp.columns"
   ]
  },
  {
   "cell_type": "code",
   "execution_count": 17,
   "metadata": {},
   "outputs": [],
   "source": [
    "qhp_columns = ['State Code', 'Metal Level', 'Issuer Name', 'Plan ID (Standard Component)', 'Plan Type', 'Child Only Offering', 'Adult Dental ', 'Child Dental ', 'EHB Percent of Total Premium']\n",
    "qhp = qhp[qhp_columns]"
   ]
  },
  {
   "cell_type": "code",
   "execution_count": 18,
   "metadata": {},
   "outputs": [
    {
     "name": "stdout",
     "output_type": "stream",
     "text": [
      "<class 'pandas.core.frame.DataFrame'>\n",
      "Int64Index: 9 entries, 66249 to 66634\n",
      "Data columns (total 9 columns):\n",
      " #   Column                        Non-Null Count  Dtype \n",
      "---  ------                        --------------  ----- \n",
      " 0   State Code                    9 non-null      object\n",
      " 1   Metal Level                   9 non-null      object\n",
      " 2   Issuer Name                   9 non-null      object\n",
      " 3   Plan ID (Standard Component)  9 non-null      object\n",
      " 4   Plan Type                     9 non-null      object\n",
      " 5   Child Only Offering           9 non-null      object\n",
      " 6   Adult Dental                  9 non-null      int64 \n",
      " 7   Child Dental                  9 non-null      int64 \n",
      " 8   EHB Percent of Total Premium  0 non-null      object\n",
      "dtypes: int64(2), object(7)\n",
      "memory usage: 720.0+ bytes\n"
     ]
    }
   ],
   "source": [
    "#all nans left are in the EHB column\n",
    "qhp[qhp.isna().any(axis=1)].info()"
   ]
  },
  {
   "cell_type": "code",
   "execution_count": 19,
   "metadata": {},
   "outputs": [
    {
     "data": {
      "text/plain": [
       "Catastrophic    9\n",
       "Name: Metal Level, dtype: int64"
      ]
     },
     "execution_count": 19,
     "metadata": {},
     "output_type": "execute_result"
    }
   ],
   "source": [
    "#they are all catastrophic metal level\n",
    "qhp[qhp.isna().any(axis=1)]['Metal Level'].value_counts()"
   ]
  },
  {
   "cell_type": "code",
   "execution_count": 20,
   "metadata": {},
   "outputs": [
    {
     "data": {
      "text/plain": [
       "NH    9\n",
       "Name: State Code, dtype: int64"
      ]
     },
     "execution_count": 20,
     "metadata": {},
     "output_type": "execute_result"
    }
   ],
   "source": [
    "#They are from MI, OR, WI\n",
    "qhp[qhp.isna().any(axis=1)]['State Code'].value_counts()"
   ]
  },
  {
   "cell_type": "code",
   "execution_count": 21,
   "metadata": {},
   "outputs": [],
   "source": [
    "qhp = qhp.dropna()"
   ]
  },
  {
   "cell_type": "code",
   "execution_count": 22,
   "metadata": {},
   "outputs": [
    {
     "name": "stdout",
     "output_type": "stream",
     "text": [
      "length of qhp before dropping duplicates:  109871\n",
      "length of qhp after dropping duplicates:  5151\n"
     ]
    },
    {
     "data": {
      "text/html": [
       "<div>\n",
       "<style scoped>\n",
       "    .dataframe tbody tr th:only-of-type {\n",
       "        vertical-align: middle;\n",
       "    }\n",
       "\n",
       "    .dataframe tbody tr th {\n",
       "        vertical-align: top;\n",
       "    }\n",
       "\n",
       "    .dataframe thead th {\n",
       "        text-align: right;\n",
       "    }\n",
       "</style>\n",
       "<table border=\"1\" class=\"dataframe\">\n",
       "  <thead>\n",
       "    <tr style=\"text-align: right;\">\n",
       "      <th></th>\n",
       "      <th>state</th>\n",
       "      <th>metal</th>\n",
       "      <th>issuer</th>\n",
       "      <th>plan_id</th>\n",
       "      <th>plan_type</th>\n",
       "      <th>child_only_offering</th>\n",
       "      <th>adult_dental</th>\n",
       "      <th>child_dental</th>\n",
       "      <th>EHB_over_premium</th>\n",
       "    </tr>\n",
       "  </thead>\n",
       "  <tbody>\n",
       "    <tr>\n",
       "      <th>0</th>\n",
       "      <td>AK</td>\n",
       "      <td>Gold</td>\n",
       "      <td>Premera Blue Cross Blue Shield of Alaska</td>\n",
       "      <td>38344AK1060001</td>\n",
       "      <td>PPO</td>\n",
       "      <td>Allows Adult and Child-Only</td>\n",
       "      <td>0</td>\n",
       "      <td>0</td>\n",
       "      <td>99.30%</td>\n",
       "    </tr>\n",
       "    <tr>\n",
       "      <th>1</th>\n",
       "      <td>AK</td>\n",
       "      <td>Silver</td>\n",
       "      <td>Premera Blue Cross Blue Shield of Alaska</td>\n",
       "      <td>38344AK1060002</td>\n",
       "      <td>PPO</td>\n",
       "      <td>Allows Adult and Child-Only</td>\n",
       "      <td>0</td>\n",
       "      <td>0</td>\n",
       "      <td>99.40%</td>\n",
       "    </tr>\n",
       "    <tr>\n",
       "      <th>2</th>\n",
       "      <td>AK</td>\n",
       "      <td>Expanded Bronze</td>\n",
       "      <td>Premera Blue Cross Blue Shield of Alaska</td>\n",
       "      <td>38344AK1060004</td>\n",
       "      <td>PPO</td>\n",
       "      <td>Allows Adult and Child-Only</td>\n",
       "      <td>0</td>\n",
       "      <td>0</td>\n",
       "      <td>99.06%</td>\n",
       "    </tr>\n",
       "    <tr>\n",
       "      <th>3</th>\n",
       "      <td>AK</td>\n",
       "      <td>Silver</td>\n",
       "      <td>Premera Blue Cross Blue Shield of Alaska</td>\n",
       "      <td>38344AK1070001</td>\n",
       "      <td>PPO</td>\n",
       "      <td>Allows Adult and Child-Only</td>\n",
       "      <td>0</td>\n",
       "      <td>0</td>\n",
       "      <td>99.88%</td>\n",
       "    </tr>\n",
       "    <tr>\n",
       "      <th>4</th>\n",
       "      <td>AK</td>\n",
       "      <td>Expanded Bronze</td>\n",
       "      <td>Premera Blue Cross Blue Shield of Alaska</td>\n",
       "      <td>38344AK1070002</td>\n",
       "      <td>PPO</td>\n",
       "      <td>Allows Adult and Child-Only</td>\n",
       "      <td>0</td>\n",
       "      <td>0</td>\n",
       "      <td>99.80%</td>\n",
       "    </tr>\n",
       "    <tr>\n",
       "      <th>...</th>\n",
       "      <td>...</td>\n",
       "      <td>...</td>\n",
       "      <td>...</td>\n",
       "      <td>...</td>\n",
       "      <td>...</td>\n",
       "      <td>...</td>\n",
       "      <td>...</td>\n",
       "      <td>...</td>\n",
       "      <td>...</td>\n",
       "    </tr>\n",
       "    <tr>\n",
       "      <th>109413</th>\n",
       "      <td>WY</td>\n",
       "      <td>Expanded Bronze</td>\n",
       "      <td>Mountain Health CO-OP</td>\n",
       "      <td>38576WY0020003</td>\n",
       "      <td>PPO</td>\n",
       "      <td>Allows Adult and Child-Only</td>\n",
       "      <td>0</td>\n",
       "      <td>0</td>\n",
       "      <td>100.00%</td>\n",
       "    </tr>\n",
       "    <tr>\n",
       "      <th>109414</th>\n",
       "      <td>WY</td>\n",
       "      <td>Expanded Bronze</td>\n",
       "      <td>Mountain Health CO-OP</td>\n",
       "      <td>38576WY0020004</td>\n",
       "      <td>PPO</td>\n",
       "      <td>Allows Adult and Child-Only</td>\n",
       "      <td>0</td>\n",
       "      <td>0</td>\n",
       "      <td>100.00%</td>\n",
       "    </tr>\n",
       "    <tr>\n",
       "      <th>109415</th>\n",
       "      <td>WY</td>\n",
       "      <td>Gold</td>\n",
       "      <td>Mountain Health CO-OP</td>\n",
       "      <td>38576WY0020005</td>\n",
       "      <td>PPO</td>\n",
       "      <td>Allows Adult and Child-Only</td>\n",
       "      <td>0</td>\n",
       "      <td>0</td>\n",
       "      <td>100.00%</td>\n",
       "    </tr>\n",
       "    <tr>\n",
       "      <th>109416</th>\n",
       "      <td>WY</td>\n",
       "      <td>Silver</td>\n",
       "      <td>Mountain Health CO-OP</td>\n",
       "      <td>38576WY0020006</td>\n",
       "      <td>PPO</td>\n",
       "      <td>Allows Adult and Child-Only</td>\n",
       "      <td>0</td>\n",
       "      <td>0</td>\n",
       "      <td>100.00%</td>\n",
       "    </tr>\n",
       "    <tr>\n",
       "      <th>109417</th>\n",
       "      <td>WY</td>\n",
       "      <td>Expanded Bronze</td>\n",
       "      <td>Mountain Health CO-OP</td>\n",
       "      <td>38576WY0020007</td>\n",
       "      <td>PPO</td>\n",
       "      <td>Allows Adult and Child-Only</td>\n",
       "      <td>0</td>\n",
       "      <td>0</td>\n",
       "      <td>100.00%</td>\n",
       "    </tr>\n",
       "  </tbody>\n",
       "</table>\n",
       "<p>5151 rows × 9 columns</p>\n",
       "</div>"
      ],
      "text/plain": [
       "       state            metal                                    issuer  \\\n",
       "0         AK             Gold  Premera Blue Cross Blue Shield of Alaska   \n",
       "1         AK           Silver  Premera Blue Cross Blue Shield of Alaska   \n",
       "2         AK  Expanded Bronze  Premera Blue Cross Blue Shield of Alaska   \n",
       "3         AK           Silver  Premera Blue Cross Blue Shield of Alaska   \n",
       "4         AK  Expanded Bronze  Premera Blue Cross Blue Shield of Alaska   \n",
       "...      ...              ...                                       ...   \n",
       "109413    WY  Expanded Bronze                     Mountain Health CO-OP   \n",
       "109414    WY  Expanded Bronze                     Mountain Health CO-OP   \n",
       "109415    WY             Gold                     Mountain Health CO-OP   \n",
       "109416    WY           Silver                     Mountain Health CO-OP   \n",
       "109417    WY  Expanded Bronze                     Mountain Health CO-OP   \n",
       "\n",
       "               plan_id plan_type          child_only_offering  adult_dental  \\\n",
       "0       38344AK1060001       PPO  Allows Adult and Child-Only             0   \n",
       "1       38344AK1060002       PPO  Allows Adult and Child-Only             0   \n",
       "2       38344AK1060004       PPO  Allows Adult and Child-Only             0   \n",
       "3       38344AK1070001       PPO  Allows Adult and Child-Only             0   \n",
       "4       38344AK1070002       PPO  Allows Adult and Child-Only             0   \n",
       "...                ...       ...                          ...           ...   \n",
       "109413  38576WY0020003       PPO  Allows Adult and Child-Only             0   \n",
       "109414  38576WY0020004       PPO  Allows Adult and Child-Only             0   \n",
       "109415  38576WY0020005       PPO  Allows Adult and Child-Only             0   \n",
       "109416  38576WY0020006       PPO  Allows Adult and Child-Only             0   \n",
       "109417  38576WY0020007       PPO  Allows Adult and Child-Only             0   \n",
       "\n",
       "        child_dental EHB_over_premium  \n",
       "0                  0           99.30%  \n",
       "1                  0           99.40%  \n",
       "2                  0           99.06%  \n",
       "3                  0           99.88%  \n",
       "4                  0           99.80%  \n",
       "...              ...              ...  \n",
       "109413             0          100.00%  \n",
       "109414             0          100.00%  \n",
       "109415             0          100.00%  \n",
       "109416             0          100.00%  \n",
       "109417             0          100.00%  \n",
       "\n",
       "[5151 rows x 9 columns]"
      ]
     },
     "execution_count": 22,
     "metadata": {},
     "output_type": "execute_result"
    }
   ],
   "source": [
    "qhp.columns = ['state', 'metal', 'issuer', 'plan_id', 'plan_type', 'child_only_offering', 'adult_dental', 'child_dental', 'EHB_over_premium']\n",
    "#since they don't differ by county, can drop duplicates\n",
    "print('length of qhp before dropping duplicates: ', len(qhp))\n",
    "qhp = qhp.drop_duplicates()\n",
    "print('length of qhp after dropping duplicates: ', len(qhp))\n",
    "qhp"
   ]
  },
  {
   "cell_type": "code",
   "execution_count": 23,
   "metadata": {},
   "outputs": [
    {
     "data": {
      "text/plain": [
       "1"
      ]
     },
     "execution_count": 23,
     "metadata": {},
     "output_type": "execute_result"
    }
   ],
   "source": [
    "qhp['plan_id'].value_counts().max()"
   ]
  },
  {
   "cell_type": "markdown",
   "metadata": {},
   "source": [
    "## Quality Data ##"
   ]
  },
  {
   "cell_type": "code",
   "execution_count": 24,
   "metadata": {},
   "outputs": [
    {
     "data": {
      "text/html": [
       "<div>\n",
       "<style scoped>\n",
       "    .dataframe tbody tr th:only-of-type {\n",
       "        vertical-align: middle;\n",
       "    }\n",
       "\n",
       "    .dataframe tbody tr th {\n",
       "        vertical-align: top;\n",
       "    }\n",
       "\n",
       "    .dataframe thead th {\n",
       "        text-align: right;\n",
       "    }\n",
       "</style>\n",
       "<table border=\"1\" class=\"dataframe\">\n",
       "  <thead>\n",
       "    <tr style=\"text-align: right;\">\n",
       "      <th></th>\n",
       "      <th>IssuerID</th>\n",
       "      <th>State</th>\n",
       "      <th>Plan Type</th>\n",
       "      <th>ReportingUnitID</th>\n",
       "      <th>PlanID</th>\n",
       "      <th>OverallRatingValue</th>\n",
       "      <th>MedicalCareRatingValue</th>\n",
       "      <th>MemberExperienceRatingValue</th>\n",
       "      <th>PlanAdministrationRatingValue</th>\n",
       "      <th>NotRatedReason_OverallRatingDesc</th>\n",
       "      <th>NotRatedReason_MedicalCareRatingDesc</th>\n",
       "      <th>NotRatedReason_MemberExperienceRatingDesc</th>\n",
       "      <th>NotRatedReason_PlanAdministrationRatingDesc</th>\n",
       "    </tr>\n",
       "  </thead>\n",
       "  <tbody>\n",
       "    <tr>\n",
       "      <th>0</th>\n",
       "      <td>10091</td>\n",
       "      <td>OR</td>\n",
       "      <td>PPO</td>\n",
       "      <td>10091-OR-PPO</td>\n",
       "      <td>10091OR0750002</td>\n",
       "      <td>4</td>\n",
       "      <td>4</td>\n",
       "      <td>3</td>\n",
       "      <td>5</td>\n",
       "      <td>NaN</td>\n",
       "      <td>NaN</td>\n",
       "      <td>NaN</td>\n",
       "      <td>NaN</td>\n",
       "    </tr>\n",
       "    <tr>\n",
       "      <th>1</th>\n",
       "      <td>10091</td>\n",
       "      <td>OR</td>\n",
       "      <td>PPO</td>\n",
       "      <td>10091-OR-PPO</td>\n",
       "      <td>10091OR0750003</td>\n",
       "      <td>4</td>\n",
       "      <td>4</td>\n",
       "      <td>3</td>\n",
       "      <td>5</td>\n",
       "      <td>NaN</td>\n",
       "      <td>NaN</td>\n",
       "      <td>NaN</td>\n",
       "      <td>NaN</td>\n",
       "    </tr>\n",
       "    <tr>\n",
       "      <th>2</th>\n",
       "      <td>10091</td>\n",
       "      <td>OR</td>\n",
       "      <td>PPO</td>\n",
       "      <td>10091-OR-PPO</td>\n",
       "      <td>10091OR0750004</td>\n",
       "      <td>4</td>\n",
       "      <td>4</td>\n",
       "      <td>3</td>\n",
       "      <td>5</td>\n",
       "      <td>NaN</td>\n",
       "      <td>NaN</td>\n",
       "      <td>NaN</td>\n",
       "      <td>NaN</td>\n",
       "    </tr>\n",
       "    <tr>\n",
       "      <th>3</th>\n",
       "      <td>10091</td>\n",
       "      <td>OR</td>\n",
       "      <td>PPO</td>\n",
       "      <td>10091-OR-PPO</td>\n",
       "      <td>10091OR0750005</td>\n",
       "      <td>4</td>\n",
       "      <td>4</td>\n",
       "      <td>3</td>\n",
       "      <td>5</td>\n",
       "      <td>NaN</td>\n",
       "      <td>NaN</td>\n",
       "      <td>NaN</td>\n",
       "      <td>NaN</td>\n",
       "    </tr>\n",
       "    <tr>\n",
       "      <th>4</th>\n",
       "      <td>10091</td>\n",
       "      <td>OR</td>\n",
       "      <td>PPO</td>\n",
       "      <td>10091-OR-PPO</td>\n",
       "      <td>10091OR0750011</td>\n",
       "      <td>4</td>\n",
       "      <td>4</td>\n",
       "      <td>3</td>\n",
       "      <td>5</td>\n",
       "      <td>NaN</td>\n",
       "      <td>NaN</td>\n",
       "      <td>NaN</td>\n",
       "      <td>NaN</td>\n",
       "    </tr>\n",
       "    <tr>\n",
       "      <th>...</th>\n",
       "      <td>...</td>\n",
       "      <td>...</td>\n",
       "      <td>...</td>\n",
       "      <td>...</td>\n",
       "      <td>...</td>\n",
       "      <td>...</td>\n",
       "      <td>...</td>\n",
       "      <td>...</td>\n",
       "      <td>...</td>\n",
       "      <td>...</td>\n",
       "      <td>...</td>\n",
       "      <td>...</td>\n",
       "      <td>...</td>\n",
       "    </tr>\n",
       "    <tr>\n",
       "      <th>6373</th>\n",
       "      <td>99969</td>\n",
       "      <td>OH</td>\n",
       "      <td>HMO</td>\n",
       "      <td>99969-OH-HMO</td>\n",
       "      <td>99969OH0080434</td>\n",
       "      <td>4</td>\n",
       "      <td>4</td>\n",
       "      <td>3</td>\n",
       "      <td>3</td>\n",
       "      <td>NaN</td>\n",
       "      <td>NaN</td>\n",
       "      <td>NaN</td>\n",
       "      <td>NaN</td>\n",
       "    </tr>\n",
       "    <tr>\n",
       "      <th>6374</th>\n",
       "      <td>99969</td>\n",
       "      <td>OH</td>\n",
       "      <td>HMO</td>\n",
       "      <td>99969-OH-HMO</td>\n",
       "      <td>99969OH0080435</td>\n",
       "      <td>4</td>\n",
       "      <td>4</td>\n",
       "      <td>3</td>\n",
       "      <td>3</td>\n",
       "      <td>NaN</td>\n",
       "      <td>NaN</td>\n",
       "      <td>NaN</td>\n",
       "      <td>NaN</td>\n",
       "    </tr>\n",
       "    <tr>\n",
       "      <th>6375</th>\n",
       "      <td>99969</td>\n",
       "      <td>OH</td>\n",
       "      <td>HMO</td>\n",
       "      <td>99969-OH-HMO</td>\n",
       "      <td>99969OH0080436</td>\n",
       "      <td>4</td>\n",
       "      <td>4</td>\n",
       "      <td>3</td>\n",
       "      <td>3</td>\n",
       "      <td>NaN</td>\n",
       "      <td>NaN</td>\n",
       "      <td>NaN</td>\n",
       "      <td>NaN</td>\n",
       "    </tr>\n",
       "    <tr>\n",
       "      <th>6376</th>\n",
       "      <td>99969</td>\n",
       "      <td>OH</td>\n",
       "      <td>HMO</td>\n",
       "      <td>99969-OH-HMO</td>\n",
       "      <td>99969OH0080438</td>\n",
       "      <td>4</td>\n",
       "      <td>4</td>\n",
       "      <td>3</td>\n",
       "      <td>3</td>\n",
       "      <td>NaN</td>\n",
       "      <td>NaN</td>\n",
       "      <td>NaN</td>\n",
       "      <td>NaN</td>\n",
       "    </tr>\n",
       "    <tr>\n",
       "      <th>6377</th>\n",
       "      <td>99969</td>\n",
       "      <td>OH</td>\n",
       "      <td>HMO</td>\n",
       "      <td>99969-OH-HMO</td>\n",
       "      <td>99969OH0080440</td>\n",
       "      <td>4</td>\n",
       "      <td>4</td>\n",
       "      <td>3</td>\n",
       "      <td>3</td>\n",
       "      <td>NaN</td>\n",
       "      <td>NaN</td>\n",
       "      <td>NaN</td>\n",
       "      <td>NaN</td>\n",
       "    </tr>\n",
       "  </tbody>\n",
       "</table>\n",
       "<p>6378 rows × 13 columns</p>\n",
       "</div>"
      ],
      "text/plain": [
       "      IssuerID State Plan Type ReportingUnitID          PlanID  \\\n",
       "0        10091    OR       PPO    10091-OR-PPO  10091OR0750002   \n",
       "1        10091    OR       PPO    10091-OR-PPO  10091OR0750003   \n",
       "2        10091    OR       PPO    10091-OR-PPO  10091OR0750004   \n",
       "3        10091    OR       PPO    10091-OR-PPO  10091OR0750005   \n",
       "4        10091    OR       PPO    10091-OR-PPO  10091OR0750011   \n",
       "...        ...   ...       ...             ...             ...   \n",
       "6373     99969    OH       HMO    99969-OH-HMO  99969OH0080434   \n",
       "6374     99969    OH       HMO    99969-OH-HMO  99969OH0080435   \n",
       "6375     99969    OH       HMO    99969-OH-HMO  99969OH0080436   \n",
       "6376     99969    OH       HMO    99969-OH-HMO  99969OH0080438   \n",
       "6377     99969    OH       HMO    99969-OH-HMO  99969OH0080440   \n",
       "\n",
       "     OverallRatingValue MedicalCareRatingValue MemberExperienceRatingValue  \\\n",
       "0                     4                      4                           3   \n",
       "1                     4                      4                           3   \n",
       "2                     4                      4                           3   \n",
       "3                     4                      4                           3   \n",
       "4                     4                      4                           3   \n",
       "...                 ...                    ...                         ...   \n",
       "6373                  4                      4                           3   \n",
       "6374                  4                      4                           3   \n",
       "6375                  4                      4                           3   \n",
       "6376                  4                      4                           3   \n",
       "6377                  4                      4                           3   \n",
       "\n",
       "     PlanAdministrationRatingValue NotRatedReason_OverallRatingDesc  \\\n",
       "0                                5                              NaN   \n",
       "1                                5                              NaN   \n",
       "2                                5                              NaN   \n",
       "3                                5                              NaN   \n",
       "4                                5                              NaN   \n",
       "...                            ...                              ...   \n",
       "6373                             3                              NaN   \n",
       "6374                             3                              NaN   \n",
       "6375                             3                              NaN   \n",
       "6376                             3                              NaN   \n",
       "6377                             3                              NaN   \n",
       "\n",
       "     NotRatedReason_MedicalCareRatingDesc  \\\n",
       "0                                     NaN   \n",
       "1                                     NaN   \n",
       "2                                     NaN   \n",
       "3                                     NaN   \n",
       "4                                     NaN   \n",
       "...                                   ...   \n",
       "6373                                  NaN   \n",
       "6374                                  NaN   \n",
       "6375                                  NaN   \n",
       "6376                                  NaN   \n",
       "6377                                  NaN   \n",
       "\n",
       "     NotRatedReason_MemberExperienceRatingDesc  \\\n",
       "0                                          NaN   \n",
       "1                                          NaN   \n",
       "2                                          NaN   \n",
       "3                                          NaN   \n",
       "4                                          NaN   \n",
       "...                                        ...   \n",
       "6373                                       NaN   \n",
       "6374                                       NaN   \n",
       "6375                                       NaN   \n",
       "6376                                       NaN   \n",
       "6377                                       NaN   \n",
       "\n",
       "     NotRatedReason_PlanAdministrationRatingDesc  \n",
       "0                                            NaN  \n",
       "1                                            NaN  \n",
       "2                                            NaN  \n",
       "3                                            NaN  \n",
       "4                                            NaN  \n",
       "...                                          ...  \n",
       "6373                                         NaN  \n",
       "6374                                         NaN  \n",
       "6375                                         NaN  \n",
       "6376                                         NaN  \n",
       "6377                                         NaN  \n",
       "\n",
       "[6378 rows x 13 columns]"
      ]
     },
     "execution_count": 24,
     "metadata": {},
     "output_type": "execute_result"
    }
   ],
   "source": [
    "#\n",
    "quality_data = pd.read_csv('data\\quality23.csv')\n",
    "quality_data    "
   ]
  },
  {
   "cell_type": "code",
   "execution_count": 25,
   "metadata": {},
   "outputs": [
    {
     "data": {
      "text/plain": [
       "<matplotlib.axes._subplots.AxesSubplot at 0x18d08f90188>"
      ]
     },
     "execution_count": 25,
     "metadata": {},
     "output_type": "execute_result"
    },
    {
     "data": {
      "image/png": "[encoded data removed]",
      "text/plain": [
       "<Figure size 432x288 with 2 Axes>"
      ]
     },
     "metadata": {
      "needs_background": "light"
     },
     "output_type": "display_data"
    }
   ],
   "source": [
    "sns.heatmap(quality_data.isnull())"
   ]
  },
  {
   "cell_type": "code",
   "execution_count": 26,
   "metadata": {},
   "outputs": [
    {
     "data": {
      "text/html": [
       "<div>\n",
       "<style scoped>\n",
       "    .dataframe tbody tr th:only-of-type {\n",
       "        vertical-align: middle;\n",
       "    }\n",
       "\n",
       "    .dataframe tbody tr th {\n",
       "        vertical-align: top;\n",
       "    }\n",
       "\n",
       "    .dataframe thead th {\n",
       "        text-align: right;\n",
       "    }\n",
       "</style>\n",
       "<table border=\"1\" class=\"dataframe\">\n",
       "  <thead>\n",
       "    <tr style=\"text-align: right;\">\n",
       "      <th></th>\n",
       "      <th>PlanID</th>\n",
       "      <th>overall_rating</th>\n",
       "      <th>medcare_rating</th>\n",
       "      <th>member_exp_rating</th>\n",
       "      <th>plan_admin_rating</th>\n",
       "    </tr>\n",
       "  </thead>\n",
       "  <tbody>\n",
       "    <tr>\n",
       "      <th>0</th>\n",
       "      <td>10091OR0750002</td>\n",
       "      <td>4</td>\n",
       "      <td>4</td>\n",
       "      <td>3</td>\n",
       "      <td>5</td>\n",
       "    </tr>\n",
       "    <tr>\n",
       "      <th>1</th>\n",
       "      <td>10091OR0750003</td>\n",
       "      <td>4</td>\n",
       "      <td>4</td>\n",
       "      <td>3</td>\n",
       "      <td>5</td>\n",
       "    </tr>\n",
       "    <tr>\n",
       "      <th>2</th>\n",
       "      <td>10091OR0750004</td>\n",
       "      <td>4</td>\n",
       "      <td>4</td>\n",
       "      <td>3</td>\n",
       "      <td>5</td>\n",
       "    </tr>\n",
       "    <tr>\n",
       "      <th>3</th>\n",
       "      <td>10091OR0750005</td>\n",
       "      <td>4</td>\n",
       "      <td>4</td>\n",
       "      <td>3</td>\n",
       "      <td>5</td>\n",
       "    </tr>\n",
       "    <tr>\n",
       "      <th>4</th>\n",
       "      <td>10091OR0750011</td>\n",
       "      <td>4</td>\n",
       "      <td>4</td>\n",
       "      <td>3</td>\n",
       "      <td>5</td>\n",
       "    </tr>\n",
       "    <tr>\n",
       "      <th>...</th>\n",
       "      <td>...</td>\n",
       "      <td>...</td>\n",
       "      <td>...</td>\n",
       "      <td>...</td>\n",
       "      <td>...</td>\n",
       "    </tr>\n",
       "    <tr>\n",
       "      <th>6373</th>\n",
       "      <td>99969OH0080434</td>\n",
       "      <td>4</td>\n",
       "      <td>4</td>\n",
       "      <td>3</td>\n",
       "      <td>3</td>\n",
       "    </tr>\n",
       "    <tr>\n",
       "      <th>6374</th>\n",
       "      <td>99969OH0080435</td>\n",
       "      <td>4</td>\n",
       "      <td>4</td>\n",
       "      <td>3</td>\n",
       "      <td>3</td>\n",
       "    </tr>\n",
       "    <tr>\n",
       "      <th>6375</th>\n",
       "      <td>99969OH0080436</td>\n",
       "      <td>4</td>\n",
       "      <td>4</td>\n",
       "      <td>3</td>\n",
       "      <td>3</td>\n",
       "    </tr>\n",
       "    <tr>\n",
       "      <th>6376</th>\n",
       "      <td>99969OH0080438</td>\n",
       "      <td>4</td>\n",
       "      <td>4</td>\n",
       "      <td>3</td>\n",
       "      <td>3</td>\n",
       "    </tr>\n",
       "    <tr>\n",
       "      <th>6377</th>\n",
       "      <td>99969OH0080440</td>\n",
       "      <td>4</td>\n",
       "      <td>4</td>\n",
       "      <td>3</td>\n",
       "      <td>3</td>\n",
       "    </tr>\n",
       "  </tbody>\n",
       "</table>\n",
       "<p>4103 rows × 5 columns</p>\n",
       "</div>"
      ],
      "text/plain": [
       "              PlanID overall_rating medcare_rating member_exp_rating  \\\n",
       "0     10091OR0750002              4              4                 3   \n",
       "1     10091OR0750003              4              4                 3   \n",
       "2     10091OR0750004              4              4                 3   \n",
       "3     10091OR0750005              4              4                 3   \n",
       "4     10091OR0750011              4              4                 3   \n",
       "...              ...            ...            ...               ...   \n",
       "6373  99969OH0080434              4              4                 3   \n",
       "6374  99969OH0080435              4              4                 3   \n",
       "6375  99969OH0080436              4              4                 3   \n",
       "6376  99969OH0080438              4              4                 3   \n",
       "6377  99969OH0080440              4              4                 3   \n",
       "\n",
       "     plan_admin_rating  \n",
       "0                    5  \n",
       "1                    5  \n",
       "2                    5  \n",
       "3                    5  \n",
       "4                    5  \n",
       "...                ...  \n",
       "6373                 3  \n",
       "6374                 3  \n",
       "6375                 3  \n",
       "6376                 3  \n",
       "6377                 3  \n",
       "\n",
       "[4103 rows x 5 columns]"
      ]
     },
     "execution_count": 26,
     "metadata": {},
     "output_type": "execute_result"
    }
   ],
   "source": [
    "qual_data = quality_data[['PlanID', 'OverallRatingValue', 'MedicalCareRatingValue', 'MemberExperienceRatingValue', 'PlanAdministrationRatingValue']]\n",
    "qual_data = qual_data.replace('NR', np.nan)\n",
    "qual_data = qual_data.dropna()\n",
    "qual_data.columns = ['PlanID', 'overall_rating', 'medcare_rating', 'member_exp_rating', 'plan_admin_rating']\n",
    "qual_data"
   ]
  },
  {
   "cell_type": "code",
   "execution_count": 27,
   "metadata": {},
   "outputs": [
    {
     "data": {
      "text/plain": [
       "<matplotlib.axes._subplots.AxesSubplot at 0x18d08970188>"
      ]
     },
     "execution_count": 27,
     "metadata": {},
     "output_type": "execute_result"
    },
    {
     "data": {
      "image/png": "[encoded data removed]",
      "text/plain": [
       "<Figure size 432x288 with 2 Axes>"
      ]
     },
     "metadata": {
      "needs_background": "light"
     },
     "output_type": "display_data"
    }
   ],
   "source": [
    "sns.heatmap(qual_data.isnull())"
   ]
  },
  {
   "cell_type": "code",
   "execution_count": 28,
   "metadata": {},
   "outputs": [
    {
     "name": "stdout",
     "output_type": "stream",
     "text": [
      "<class 'pandas.core.frame.DataFrame'>\n",
      "Int64Index: 4103 entries, 0 to 6377\n",
      "Data columns (total 5 columns):\n",
      " #   Column             Non-Null Count  Dtype \n",
      "---  ------             --------------  ----- \n",
      " 0   PlanID             4103 non-null   object\n",
      " 1   overall_rating     4103 non-null   object\n",
      " 2   medcare_rating     4103 non-null   object\n",
      " 3   member_exp_rating  4103 non-null   object\n",
      " 4   plan_admin_rating  4103 non-null   object\n",
      "dtypes: object(5)\n",
      "memory usage: 192.3+ KB\n"
     ]
    }
   ],
   "source": [
    "qual_data.info()"
   ]
  },
  {
   "cell_type": "code",
   "execution_count": 29,
   "metadata": {},
   "outputs": [
    {
     "data": {
      "text/html": [
       "<div>\n",
       "<style scoped>\n",
       "    .dataframe tbody tr th:only-of-type {\n",
       "        vertical-align: middle;\n",
       "    }\n",
       "\n",
       "    .dataframe tbody tr th {\n",
       "        vertical-align: top;\n",
       "    }\n",
       "\n",
       "    .dataframe thead th {\n",
       "        text-align: right;\n",
       "    }\n",
       "</style>\n",
       "<table border=\"1\" class=\"dataframe\">\n",
       "  <thead>\n",
       "    <tr style=\"text-align: right;\">\n",
       "      <th></th>\n",
       "      <th>state</th>\n",
       "      <th>metal</th>\n",
       "      <th>issuer</th>\n",
       "      <th>plan_id</th>\n",
       "      <th>plan_type</th>\n",
       "      <th>child_only_offering</th>\n",
       "      <th>adult_dental</th>\n",
       "      <th>child_dental</th>\n",
       "      <th>EHB_over_premium</th>\n",
       "      <th>PlanID</th>\n",
       "      <th>overall_rating</th>\n",
       "      <th>medcare_rating</th>\n",
       "      <th>member_exp_rating</th>\n",
       "      <th>plan_admin_rating</th>\n",
       "    </tr>\n",
       "  </thead>\n",
       "  <tbody>\n",
       "    <tr>\n",
       "      <th>0</th>\n",
       "      <td>AK</td>\n",
       "      <td>Gold</td>\n",
       "      <td>Premera Blue Cross Blue Shield of Alaska</td>\n",
       "      <td>38344AK1060001</td>\n",
       "      <td>PPO</td>\n",
       "      <td>Allows Adult and Child-Only</td>\n",
       "      <td>0</td>\n",
       "      <td>0</td>\n",
       "      <td>99.30%</td>\n",
       "      <td>38344AK1060001</td>\n",
       "      <td>3</td>\n",
       "      <td>3</td>\n",
       "      <td>3</td>\n",
       "      <td>4</td>\n",
       "    </tr>\n",
       "    <tr>\n",
       "      <th>1</th>\n",
       "      <td>AK</td>\n",
       "      <td>Silver</td>\n",
       "      <td>Premera Blue Cross Blue Shield of Alaska</td>\n",
       "      <td>38344AK1060002</td>\n",
       "      <td>PPO</td>\n",
       "      <td>Allows Adult and Child-Only</td>\n",
       "      <td>0</td>\n",
       "      <td>0</td>\n",
       "      <td>99.40%</td>\n",
       "      <td>38344AK1060002</td>\n",
       "      <td>3</td>\n",
       "      <td>3</td>\n",
       "      <td>3</td>\n",
       "      <td>4</td>\n",
       "    </tr>\n",
       "    <tr>\n",
       "      <th>2</th>\n",
       "      <td>AK</td>\n",
       "      <td>Expanded Bronze</td>\n",
       "      <td>Premera Blue Cross Blue Shield of Alaska</td>\n",
       "      <td>38344AK1060004</td>\n",
       "      <td>PPO</td>\n",
       "      <td>Allows Adult and Child-Only</td>\n",
       "      <td>0</td>\n",
       "      <td>0</td>\n",
       "      <td>99.06%</td>\n",
       "      <td>38344AK1060004</td>\n",
       "      <td>3</td>\n",
       "      <td>3</td>\n",
       "      <td>3</td>\n",
       "      <td>4</td>\n",
       "    </tr>\n",
       "    <tr>\n",
       "      <th>3</th>\n",
       "      <td>AK</td>\n",
       "      <td>Silver</td>\n",
       "      <td>Premera Blue Cross Blue Shield of Alaska</td>\n",
       "      <td>38344AK1070001</td>\n",
       "      <td>PPO</td>\n",
       "      <td>Allows Adult and Child-Only</td>\n",
       "      <td>0</td>\n",
       "      <td>0</td>\n",
       "      <td>99.88%</td>\n",
       "      <td>NaN</td>\n",
       "      <td>NaN</td>\n",
       "      <td>NaN</td>\n",
       "      <td>NaN</td>\n",
       "      <td>NaN</td>\n",
       "    </tr>\n",
       "    <tr>\n",
       "      <th>4</th>\n",
       "      <td>AK</td>\n",
       "      <td>Expanded Bronze</td>\n",
       "      <td>Premera Blue Cross Blue Shield of Alaska</td>\n",
       "      <td>38344AK1070002</td>\n",
       "      <td>PPO</td>\n",
       "      <td>Allows Adult and Child-Only</td>\n",
       "      <td>0</td>\n",
       "      <td>0</td>\n",
       "      <td>99.80%</td>\n",
       "      <td>38344AK1070002</td>\n",
       "      <td>3</td>\n",
       "      <td>3</td>\n",
       "      <td>3</td>\n",
       "      <td>4</td>\n",
       "    </tr>\n",
       "    <tr>\n",
       "      <th>...</th>\n",
       "      <td>...</td>\n",
       "      <td>...</td>\n",
       "      <td>...</td>\n",
       "      <td>...</td>\n",
       "      <td>...</td>\n",
       "      <td>...</td>\n",
       "      <td>...</td>\n",
       "      <td>...</td>\n",
       "      <td>...</td>\n",
       "      <td>...</td>\n",
       "      <td>...</td>\n",
       "      <td>...</td>\n",
       "      <td>...</td>\n",
       "      <td>...</td>\n",
       "    </tr>\n",
       "    <tr>\n",
       "      <th>5146</th>\n",
       "      <td>WY</td>\n",
       "      <td>Expanded Bronze</td>\n",
       "      <td>Mountain Health CO-OP</td>\n",
       "      <td>38576WY0020003</td>\n",
       "      <td>PPO</td>\n",
       "      <td>Allows Adult and Child-Only</td>\n",
       "      <td>0</td>\n",
       "      <td>0</td>\n",
       "      <td>100.00%</td>\n",
       "      <td>NaN</td>\n",
       "      <td>NaN</td>\n",
       "      <td>NaN</td>\n",
       "      <td>NaN</td>\n",
       "      <td>NaN</td>\n",
       "    </tr>\n",
       "    <tr>\n",
       "      <th>5147</th>\n",
       "      <td>WY</td>\n",
       "      <td>Expanded Bronze</td>\n",
       "      <td>Mountain Health CO-OP</td>\n",
       "      <td>38576WY0020004</td>\n",
       "      <td>PPO</td>\n",
       "      <td>Allows Adult and Child-Only</td>\n",
       "      <td>0</td>\n",
       "      <td>0</td>\n",
       "      <td>100.00%</td>\n",
       "      <td>NaN</td>\n",
       "      <td>NaN</td>\n",
       "      <td>NaN</td>\n",
       "      <td>NaN</td>\n",
       "      <td>NaN</td>\n",
       "    </tr>\n",
       "    <tr>\n",
       "      <th>5148</th>\n",
       "      <td>WY</td>\n",
       "      <td>Gold</td>\n",
       "      <td>Mountain Health CO-OP</td>\n",
       "      <td>38576WY0020005</td>\n",
       "      <td>PPO</td>\n",
       "      <td>Allows Adult and Child-Only</td>\n",
       "      <td>0</td>\n",
       "      <td>0</td>\n",
       "      <td>100.00%</td>\n",
       "      <td>NaN</td>\n",
       "      <td>NaN</td>\n",
       "      <td>NaN</td>\n",
       "      <td>NaN</td>\n",
       "      <td>NaN</td>\n",
       "    </tr>\n",
       "    <tr>\n",
       "      <th>5149</th>\n",
       "      <td>WY</td>\n",
       "      <td>Silver</td>\n",
       "      <td>Mountain Health CO-OP</td>\n",
       "      <td>38576WY0020006</td>\n",
       "      <td>PPO</td>\n",
       "      <td>Allows Adult and Child-Only</td>\n",
       "      <td>0</td>\n",
       "      <td>0</td>\n",
       "      <td>100.00%</td>\n",
       "      <td>NaN</td>\n",
       "      <td>NaN</td>\n",
       "      <td>NaN</td>\n",
       "      <td>NaN</td>\n",
       "      <td>NaN</td>\n",
       "    </tr>\n",
       "    <tr>\n",
       "      <th>5150</th>\n",
       "      <td>WY</td>\n",
       "      <td>Expanded Bronze</td>\n",
       "      <td>Mountain Health CO-OP</td>\n",
       "      <td>38576WY0020007</td>\n",
       "      <td>PPO</td>\n",
       "      <td>Allows Adult and Child-Only</td>\n",
       "      <td>0</td>\n",
       "      <td>0</td>\n",
       "      <td>100.00%</td>\n",
       "      <td>NaN</td>\n",
       "      <td>NaN</td>\n",
       "      <td>NaN</td>\n",
       "      <td>NaN</td>\n",
       "      <td>NaN</td>\n",
       "    </tr>\n",
       "  </tbody>\n",
       "</table>\n",
       "<p>5151 rows × 14 columns</p>\n",
       "</div>"
      ],
      "text/plain": [
       "     state            metal                                    issuer  \\\n",
       "0       AK             Gold  Premera Blue Cross Blue Shield of Alaska   \n",
       "1       AK           Silver  Premera Blue Cross Blue Shield of Alaska   \n",
       "2       AK  Expanded Bronze  Premera Blue Cross Blue Shield of Alaska   \n",
       "3       AK           Silver  Premera Blue Cross Blue Shield of Alaska   \n",
       "4       AK  Expanded Bronze  Premera Blue Cross Blue Shield of Alaska   \n",
       "...    ...              ...                                       ...   \n",
       "5146    WY  Expanded Bronze                     Mountain Health CO-OP   \n",
       "5147    WY  Expanded Bronze                     Mountain Health CO-OP   \n",
       "5148    WY             Gold                     Mountain Health CO-OP   \n",
       "5149    WY           Silver                     Mountain Health CO-OP   \n",
       "5150    WY  Expanded Bronze                     Mountain Health CO-OP   \n",
       "\n",
       "             plan_id plan_type          child_only_offering  adult_dental  \\\n",
       "0     38344AK1060001       PPO  Allows Adult and Child-Only             0   \n",
       "1     38344AK1060002       PPO  Allows Adult and Child-Only             0   \n",
       "2     38344AK1060004       PPO  Allows Adult and Child-Only             0   \n",
       "3     38344AK1070001       PPO  Allows Adult and Child-Only             0   \n",
       "4     38344AK1070002       PPO  Allows Adult and Child-Only             0   \n",
       "...              ...       ...                          ...           ...   \n",
       "5146  38576WY0020003       PPO  Allows Adult and Child-Only             0   \n",
       "5147  38576WY0020004       PPO  Allows Adult and Child-Only             0   \n",
       "5148  38576WY0020005       PPO  Allows Adult and Child-Only             0   \n",
       "5149  38576WY0020006       PPO  Allows Adult and Child-Only             0   \n",
       "5150  38576WY0020007       PPO  Allows Adult and Child-Only             0   \n",
       "\n",
       "      child_dental EHB_over_premium          PlanID overall_rating  \\\n",
       "0                0           99.30%  38344AK1060001              3   \n",
       "1                0           99.40%  38344AK1060002              3   \n",
       "2                0           99.06%  38344AK1060004              3   \n",
       "3                0           99.88%             NaN            NaN   \n",
       "4                0           99.80%  38344AK1070002              3   \n",
       "...            ...              ...             ...            ...   \n",
       "5146             0          100.00%             NaN            NaN   \n",
       "5147             0          100.00%             NaN            NaN   \n",
       "5148             0          100.00%             NaN            NaN   \n",
       "5149             0          100.00%             NaN            NaN   \n",
       "5150             0          100.00%             NaN            NaN   \n",
       "\n",
       "     medcare_rating member_exp_rating plan_admin_rating  \n",
       "0                 3                 3                 4  \n",
       "1                 3                 3                 4  \n",
       "2                 3                 3                 4  \n",
       "3               NaN               NaN               NaN  \n",
       "4                 3                 3                 4  \n",
       "...             ...               ...               ...  \n",
       "5146            NaN               NaN               NaN  \n",
       "5147            NaN               NaN               NaN  \n",
       "5148            NaN               NaN               NaN  \n",
       "5149            NaN               NaN               NaN  \n",
       "5150            NaN               NaN               NaN  \n",
       "\n",
       "[5151 rows x 14 columns]"
      ]
     },
     "execution_count": 29,
     "metadata": {},
     "output_type": "execute_result"
    }
   ],
   "source": [
    "merged = qhp.merge(qual_data, how = 'left', left_on='plan_id', right_on='PlanID')\n",
    "merged"
   ]
  },
  {
   "cell_type": "code",
   "execution_count": 30,
   "metadata": {},
   "outputs": [
    {
     "data": {
      "text/html": [
       "<div>\n",
       "<style scoped>\n",
       "    .dataframe tbody tr th:only-of-type {\n",
       "        vertical-align: middle;\n",
       "    }\n",
       "\n",
       "    .dataframe tbody tr th {\n",
       "        vertical-align: top;\n",
       "    }\n",
       "\n",
       "    .dataframe thead th {\n",
       "        text-align: right;\n",
       "    }\n",
       "</style>\n",
       "<table border=\"1\" class=\"dataframe\">\n",
       "  <thead>\n",
       "    <tr style=\"text-align: right;\">\n",
       "      <th></th>\n",
       "      <th>PlanID</th>\n",
       "      <th>overall_rating</th>\n",
       "      <th>medcare_rating</th>\n",
       "      <th>member_exp_rating</th>\n",
       "      <th>plan_admin_rating</th>\n",
       "    </tr>\n",
       "  </thead>\n",
       "  <tbody>\n",
       "  </tbody>\n",
       "</table>\n",
       "</div>"
      ],
      "text/plain": [
       "Empty DataFrame\n",
       "Columns: [PlanID, overall_rating, medcare_rating, member_exp_rating, plan_admin_rating]\n",
       "Index: []"
      ]
     },
     "execution_count": 30,
     "metadata": {},
     "output_type": "execute_result"
    }
   ],
   "source": [
    "#38576WY0020003 has nans for quality scores. Lets just make sure thats right\n",
    "qual_data[qual_data['PlanID'] == '38576WY0020003']"
   ]
  },
  {
   "cell_type": "code",
   "execution_count": 31,
   "metadata": {},
   "outputs": [
    {
     "data": {
      "text/plain": [
       "<matplotlib.axes._subplots.AxesSubplot at 0x18d09112888>"
      ]
     },
     "execution_count": 31,
     "metadata": {},
     "output_type": "execute_result"
    },
    {
     "data": {
      "image/png": "[encoded data removed]",
      "text/plain": [
       "<Figure size 432x288 with 2 Axes>"
      ]
     },
     "metadata": {
      "needs_background": "light"
     },
     "output_type": "display_data"
    }
   ],
   "source": [
    "sns.heatmap(merged.isnull())"
   ]
  },
  {
   "cell_type": "markdown",
   "metadata": {},
   "source": [
    "### Looking at plans with no quality scores ###"
   ]
  },
  {
   "cell_type": "code",
   "execution_count": 32,
   "metadata": {},
   "outputs": [
    {
     "name": "stdout",
     "output_type": "stream",
     "text": [
      "<class 'pandas.core.frame.DataFrame'>\n",
      "Int64Index: 2942 entries, 3 to 5150\n",
      "Data columns (total 14 columns):\n",
      " #   Column               Non-Null Count  Dtype \n",
      "---  ------               --------------  ----- \n",
      " 0   state                2942 non-null   object\n",
      " 1   metal                2942 non-null   object\n",
      " 2   issuer               2942 non-null   object\n",
      " 3   plan_id              2942 non-null   object\n",
      " 4   plan_type            2942 non-null   object\n",
      " 5   child_only_offering  2942 non-null   object\n",
      " 6   adult_dental         2942 non-null   int64 \n",
      " 7   child_dental         2942 non-null   int64 \n",
      " 8   EHB_over_premium     2942 non-null   object\n",
      " 9   PlanID               0 non-null      object\n",
      " 10  overall_rating       0 non-null      object\n",
      " 11  medcare_rating       0 non-null      object\n",
      " 12  member_exp_rating    0 non-null      object\n",
      " 13  plan_admin_rating    0 non-null      object\n",
      "dtypes: int64(2), object(12)\n",
      "memory usage: 344.8+ KB\n"
     ]
    }
   ],
   "source": [
    "#plans with no quality scores\n",
    "merged[merged.isna().any(axis=1)].info()"
   ]
  },
  {
   "cell_type": "code",
   "execution_count": 33,
   "metadata": {},
   "outputs": [
    {
     "data": {
      "text/plain": [
       "FL    412\n",
       "TX    345\n",
       "NC    274\n",
       "GA    192\n",
       "WI    175\n",
       "IL    134\n",
       "MO    123\n",
       "TN    121\n",
       "OK    116\n",
       "KS    111\n",
       "VA    108\n",
       "MI    101\n",
       "OH     97\n",
       "NE     88\n",
       "AZ     83\n",
       "UT     66\n",
       "SC     62\n",
       "LA     58\n",
       "IA     47\n",
       "AR     39\n",
       "OR     30\n",
       "IN     29\n",
       "MS     27\n",
       "AL     23\n",
       "NH     17\n",
       "ND     16\n",
       "DE     13\n",
       "WV     11\n",
       "SD     10\n",
       "WY      7\n",
       "AK      5\n",
       "MT      2\n",
       "Name: state, dtype: int64"
      ]
     },
     "execution_count": 33,
     "metadata": {},
     "output_type": "execute_result"
    }
   ],
   "source": [
    "merged[merged.isna().any(axis=1)]['state'].value_counts()"
   ]
  },
  {
   "cell_type": "code",
   "execution_count": 34,
   "metadata": {},
   "outputs": [
    {
     "data": {
      "text/plain": [
       "Bright HealthCare                           624\n",
       "Oscar Insurance Company                     272\n",
       "UnitedHealthcare                            146\n",
       "Medica                                      115\n",
       "Ambetter from Superior HealthPlan           109\n",
       "                                           ... \n",
       "HealthKeepers, Inc.                           1\n",
       "Florida Health Care Plans                     1\n",
       "Blue Cross and Blue Shield of Alabama         1\n",
       "FirstCare Health Plans                        1\n",
       "Premera Blue Cross Blue Shield of Alaska      1\n",
       "Name: issuer, Length: 104, dtype: int64"
      ]
     },
     "execution_count": 34,
     "metadata": {},
     "output_type": "execute_result"
    }
   ],
   "source": [
    "merged[merged.isna().any(axis=1)]['issuer'].value_counts()"
   ]
  },
  {
   "cell_type": "code",
   "execution_count": 35,
   "metadata": {},
   "outputs": [
    {
     "data": {
      "text/plain": [
       "Silver             1185\n",
       "Expanded Bronze     972\n",
       "Gold                529\n",
       "Bronze              146\n",
       "Catastrophic        105\n",
       "Platinum              5\n",
       "Name: metal, dtype: int64"
      ]
     },
     "execution_count": 35,
     "metadata": {},
     "output_type": "execute_result"
    }
   ],
   "source": [
    "merged[merged.isna().any(axis=1)]['metal'].value_counts()"
   ]
  },
  {
   "cell_type": "code",
   "execution_count": 36,
   "metadata": {},
   "outputs": [],
   "source": [
    "data = merged.dropna()"
   ]
  },
  {
   "cell_type": "markdown",
   "metadata": {},
   "source": [
    "## Feature Engineering ##"
   ]
  },
  {
   "cell_type": "code",
   "execution_count": 37,
   "metadata": {},
   "outputs": [
    {
     "name": "stderr",
     "output_type": "stream",
     "text": [
      "C:\\Users\\brend\\anaconda3\\lib\\site-packages\\ipykernel_launcher.py:2: SettingWithCopyWarning: \n",
      "A value is trying to be set on a copy of a slice from a DataFrame.\n",
      "Try using .loc[row_indexer,col_indexer] = value instead\n",
      "\n",
      "See the caveats in the documentation: https://pandas.pydata.org/pandas-docs/stable/user_guide/indexing.html#returning-a-view-versus-a-copy\n",
      "  \n",
      "C:\\Users\\brend\\anaconda3\\lib\\site-packages\\ipykernel_launcher.py:5: SettingWithCopyWarning: \n",
      "A value is trying to be set on a copy of a slice from a DataFrame.\n",
      "Try using .loc[row_indexer,col_indexer] = value instead\n",
      "\n",
      "See the caveats in the documentation: https://pandas.pydata.org/pandas-docs/stable/user_guide/indexing.html#returning-a-view-versus-a-copy\n",
      "  \"\"\"\n"
     ]
    }
   ],
   "source": [
    "#fixing quality metrics and ehb\n",
    "data['EHB_over_premium'] = percent2float(data['EHB_over_premium'])\n",
    "quality_metrics = ['overall_rating', 'medcare_rating', 'member_exp_rating', 'plan_admin_rating']\n",
    "for qual in quality_metrics:\n",
    "    data[qual] = str2int(data[qual])"
   ]
  },
  {
   "cell_type": "code",
   "execution_count": 38,
   "metadata": {},
   "outputs": [
    {
     "name": "stdout",
     "output_type": "stream",
     "text": [
      "<class 'pandas.core.frame.DataFrame'>\n",
      "Int64Index: 2209 entries, 0 to 5143\n",
      "Data columns (total 14 columns):\n",
      " #   Column               Non-Null Count  Dtype  \n",
      "---  ------               --------------  -----  \n",
      " 0   state                2209 non-null   object \n",
      " 1   metal                2209 non-null   object \n",
      " 2   issuer               2209 non-null   object \n",
      " 3   plan_id              2209 non-null   object \n",
      " 4   plan_type            2209 non-null   object \n",
      " 5   child_only_offering  2209 non-null   object \n",
      " 6   adult_dental         2209 non-null   int64  \n",
      " 7   child_dental         2209 non-null   int64  \n",
      " 8   EHB_over_premium     2209 non-null   float64\n",
      " 9   PlanID               2209 non-null   object \n",
      " 10  overall_rating       2209 non-null   int64  \n",
      " 11  medcare_rating       2209 non-null   int64  \n",
      " 12  member_exp_rating    2209 non-null   int64  \n",
      " 13  plan_admin_rating    2209 non-null   int64  \n",
      "dtypes: float64(1), int64(6), object(7)\n",
      "memory usage: 258.9+ KB\n"
     ]
    }
   ],
   "source": [
    "data.info()"
   ]
  },
  {
   "cell_type": "code",
   "execution_count": 39,
   "metadata": {},
   "outputs": [],
   "source": [
    "data = data.drop('PlanID', axis = 1)"
   ]
  },
  {
   "cell_type": "code",
   "execution_count": 40,
   "metadata": {},
   "outputs": [
    {
     "data": {
      "text/plain": [
       "32"
      ]
     },
     "execution_count": 40,
     "metadata": {},
     "output_type": "execute_result"
    }
   ],
   "source": [
    "len(set(data['state']))"
   ]
  },
  {
   "cell_type": "code",
   "execution_count": 41,
   "metadata": {},
   "outputs": [
    {
     "data": {
      "text/plain": [
       "33"
      ]
     },
     "execution_count": 41,
     "metadata": {},
     "output_type": "execute_result"
    }
   ],
   "source": [
    "len(set(qhp_data['State Code']))"
   ]
  },
  {
   "cell_type": "code",
   "execution_count": 42,
   "metadata": {},
   "outputs": [
    {
     "data": {
      "text/plain": [
       "Silver             753\n",
       "Expanded Bronze    679\n",
       "Gold               450\n",
       "Bronze             167\n",
       "Catastrophic       131\n",
       "Platinum            29\n",
       "Name: metal, dtype: int64"
      ]
     },
     "execution_count": 42,
     "metadata": {},
     "output_type": "execute_result"
    }
   ],
   "source": [
    "data['metal'].value_counts()"
   ]
  },
  {
   "cell_type": "code",
   "execution_count": 43,
   "metadata": {},
   "outputs": [
    {
     "data": {
      "text/plain": [
       "Blue Cross and Blue Shield of Texas       276\n",
       "Blue Cross and Blue Shield of Illinois    108\n",
       "Blue Cross Blue Shield of Arizona          96\n",
       "Medica                                     75\n",
       "BlueCross BlueShield of Tennessee          73\n",
       "                                         ... \n",
       "Priority Health                             5\n",
       "University of Utah Health Plans             5\n",
       "Wellmark Health Plan of Iowa, Inc.          4\n",
       "MercyCare Health Plans                      4\n",
       "CareFirst BlueChoice                        3\n",
       "Name: issuer, Length: 83, dtype: int64"
      ]
     },
     "execution_count": 43,
     "metadata": {},
     "output_type": "execute_result"
    }
   ],
   "source": [
    "data['issuer'].value_counts()"
   ]
  },
  {
   "cell_type": "markdown",
   "metadata": {},
   "source": [
    "## Modeling ##"
   ]
  },
  {
   "cell_type": "code",
   "execution_count": 44,
   "metadata": {},
   "outputs": [
    {
     "data": {
      "text/html": [
       "<div>\n",
       "<style scoped>\n",
       "    .dataframe tbody tr th:only-of-type {\n",
       "        vertical-align: middle;\n",
       "    }\n",
       "\n",
       "    .dataframe tbody tr th {\n",
       "        vertical-align: top;\n",
       "    }\n",
       "\n",
       "    .dataframe thead th {\n",
       "        text-align: right;\n",
       "    }\n",
       "</style>\n",
       "<table border=\"1\" class=\"dataframe\">\n",
       "  <thead>\n",
       "    <tr style=\"text-align: right;\">\n",
       "      <th></th>\n",
       "      <th>state</th>\n",
       "      <th>metal</th>\n",
       "      <th>plan_type</th>\n",
       "      <th>child_only_offering</th>\n",
       "      <th>adult_dental</th>\n",
       "      <th>child_dental</th>\n",
       "      <th>EHB_over_premium</th>\n",
       "      <th>overall_rating</th>\n",
       "      <th>medcare_rating</th>\n",
       "      <th>member_exp_rating</th>\n",
       "      <th>plan_admin_rating</th>\n",
       "    </tr>\n",
       "  </thead>\n",
       "  <tbody>\n",
       "    <tr>\n",
       "      <th>0</th>\n",
       "      <td>AK</td>\n",
       "      <td>Gold</td>\n",
       "      <td>PPO</td>\n",
       "      <td>Allows Adult and Child-Only</td>\n",
       "      <td>0</td>\n",
       "      <td>0</td>\n",
       "      <td>0.9930</td>\n",
       "      <td>3</td>\n",
       "      <td>3</td>\n",
       "      <td>3</td>\n",
       "      <td>4</td>\n",
       "    </tr>\n",
       "    <tr>\n",
       "      <th>1</th>\n",
       "      <td>AK</td>\n",
       "      <td>Silver</td>\n",
       "      <td>PPO</td>\n",
       "      <td>Allows Adult and Child-Only</td>\n",
       "      <td>0</td>\n",
       "      <td>0</td>\n",
       "      <td>0.9940</td>\n",
       "      <td>3</td>\n",
       "      <td>3</td>\n",
       "      <td>3</td>\n",
       "      <td>4</td>\n",
       "    </tr>\n",
       "    <tr>\n",
       "      <th>2</th>\n",
       "      <td>AK</td>\n",
       "      <td>Expanded Bronze</td>\n",
       "      <td>PPO</td>\n",
       "      <td>Allows Adult and Child-Only</td>\n",
       "      <td>0</td>\n",
       "      <td>0</td>\n",
       "      <td>0.9906</td>\n",
       "      <td>3</td>\n",
       "      <td>3</td>\n",
       "      <td>3</td>\n",
       "      <td>4</td>\n",
       "    </tr>\n",
       "    <tr>\n",
       "      <th>4</th>\n",
       "      <td>AK</td>\n",
       "      <td>Expanded Bronze</td>\n",
       "      <td>PPO</td>\n",
       "      <td>Allows Adult and Child-Only</td>\n",
       "      <td>0</td>\n",
       "      <td>0</td>\n",
       "      <td>0.9980</td>\n",
       "      <td>3</td>\n",
       "      <td>3</td>\n",
       "      <td>3</td>\n",
       "      <td>4</td>\n",
       "    </tr>\n",
       "    <tr>\n",
       "      <th>5</th>\n",
       "      <td>AK</td>\n",
       "      <td>Gold</td>\n",
       "      <td>PPO</td>\n",
       "      <td>Allows Adult and Child-Only</td>\n",
       "      <td>0</td>\n",
       "      <td>0</td>\n",
       "      <td>0.9945</td>\n",
       "      <td>3</td>\n",
       "      <td>3</td>\n",
       "      <td>3</td>\n",
       "      <td>4</td>\n",
       "    </tr>\n",
       "    <tr>\n",
       "      <th>...</th>\n",
       "      <td>...</td>\n",
       "      <td>...</td>\n",
       "      <td>...</td>\n",
       "      <td>...</td>\n",
       "      <td>...</td>\n",
       "      <td>...</td>\n",
       "      <td>...</td>\n",
       "      <td>...</td>\n",
       "      <td>...</td>\n",
       "      <td>...</td>\n",
       "      <td>...</td>\n",
       "    </tr>\n",
       "    <tr>\n",
       "      <th>5139</th>\n",
       "      <td>WY</td>\n",
       "      <td>Gold</td>\n",
       "      <td>PPO</td>\n",
       "      <td>Allows Adult and Child-Only</td>\n",
       "      <td>0</td>\n",
       "      <td>0</td>\n",
       "      <td>1.0000</td>\n",
       "      <td>2</td>\n",
       "      <td>2</td>\n",
       "      <td>2</td>\n",
       "      <td>4</td>\n",
       "    </tr>\n",
       "    <tr>\n",
       "      <th>5140</th>\n",
       "      <td>WY</td>\n",
       "      <td>Gold</td>\n",
       "      <td>PPO</td>\n",
       "      <td>Allows Adult and Child-Only</td>\n",
       "      <td>0</td>\n",
       "      <td>0</td>\n",
       "      <td>1.0000</td>\n",
       "      <td>2</td>\n",
       "      <td>2</td>\n",
       "      <td>2</td>\n",
       "      <td>4</td>\n",
       "    </tr>\n",
       "    <tr>\n",
       "      <th>5141</th>\n",
       "      <td>WY</td>\n",
       "      <td>Bronze</td>\n",
       "      <td>PPO</td>\n",
       "      <td>Allows Adult and Child-Only</td>\n",
       "      <td>0</td>\n",
       "      <td>0</td>\n",
       "      <td>1.0000</td>\n",
       "      <td>2</td>\n",
       "      <td>2</td>\n",
       "      <td>2</td>\n",
       "      <td>4</td>\n",
       "    </tr>\n",
       "    <tr>\n",
       "      <th>5142</th>\n",
       "      <td>WY</td>\n",
       "      <td>Silver</td>\n",
       "      <td>PPO</td>\n",
       "      <td>Allows Adult and Child-Only</td>\n",
       "      <td>0</td>\n",
       "      <td>0</td>\n",
       "      <td>1.0000</td>\n",
       "      <td>2</td>\n",
       "      <td>2</td>\n",
       "      <td>2</td>\n",
       "      <td>4</td>\n",
       "    </tr>\n",
       "    <tr>\n",
       "      <th>5143</th>\n",
       "      <td>WY</td>\n",
       "      <td>Silver</td>\n",
       "      <td>PPO</td>\n",
       "      <td>Allows Adult and Child-Only</td>\n",
       "      <td>0</td>\n",
       "      <td>0</td>\n",
       "      <td>1.0000</td>\n",
       "      <td>2</td>\n",
       "      <td>2</td>\n",
       "      <td>2</td>\n",
       "      <td>4</td>\n",
       "    </tr>\n",
       "  </tbody>\n",
       "</table>\n",
       "<p>2209 rows × 11 columns</p>\n",
       "</div>"
      ],
      "text/plain": [
       "     state            metal plan_type          child_only_offering  \\\n",
       "0       AK             Gold       PPO  Allows Adult and Child-Only   \n",
       "1       AK           Silver       PPO  Allows Adult and Child-Only   \n",
       "2       AK  Expanded Bronze       PPO  Allows Adult and Child-Only   \n",
       "4       AK  Expanded Bronze       PPO  Allows Adult and Child-Only   \n",
       "5       AK             Gold       PPO  Allows Adult and Child-Only   \n",
       "...    ...              ...       ...                          ...   \n",
       "5139    WY             Gold       PPO  Allows Adult and Child-Only   \n",
       "5140    WY             Gold       PPO  Allows Adult and Child-Only   \n",
       "5141    WY           Bronze       PPO  Allows Adult and Child-Only   \n",
       "5142    WY           Silver       PPO  Allows Adult and Child-Only   \n",
       "5143    WY           Silver       PPO  Allows Adult and Child-Only   \n",
       "\n",
       "      adult_dental  child_dental  EHB_over_premium  overall_rating  \\\n",
       "0                0             0            0.9930               3   \n",
       "1                0             0            0.9940               3   \n",
       "2                0             0            0.9906               3   \n",
       "4                0             0            0.9980               3   \n",
       "5                0             0            0.9945               3   \n",
       "...            ...           ...               ...             ...   \n",
       "5139             0             0            1.0000               2   \n",
       "5140             0             0            1.0000               2   \n",
       "5141             0             0            1.0000               2   \n",
       "5142             0             0            1.0000               2   \n",
       "5143             0             0            1.0000               2   \n",
       "\n",
       "      medcare_rating  member_exp_rating  plan_admin_rating  \n",
       "0                  3                  3                  4  \n",
       "1                  3                  3                  4  \n",
       "2                  3                  3                  4  \n",
       "4                  3                  3                  4  \n",
       "5                  3                  3                  4  \n",
       "...              ...                ...                ...  \n",
       "5139               2                  2                  4  \n",
       "5140               2                  2                  4  \n",
       "5141               2                  2                  4  \n",
       "5142               2                  2                  4  \n",
       "5143               2                  2                  4  \n",
       "\n",
       "[2209 rows x 11 columns]"
      ]
     },
     "execution_count": 44,
     "metadata": {},
     "output_type": "execute_result"
    }
   ],
   "source": [
    "mdl_data = data[['state', 'metal', 'plan_type', 'child_only_offering', 'adult_dental', 'child_dental', 'EHB_over_premium', 'overall_rating', 'medcare_rating', 'member_exp_rating', 'plan_admin_rating']]\n",
    "mdl_data"
   ]
  },
  {
   "cell_type": "code",
   "execution_count": 88,
   "metadata": {},
   "outputs": [
    {
     "name": "stdout",
     "output_type": "stream",
     "text": [
      "0.611  R^2 score for  overall_rating\n",
      "0.467  Rounded R^2 score for  overall_rating\n",
      "\n",
      "\n",
      "0.681  R^2 score for  medcare_rating\n",
      "0.581  Rounded R^2 score for  medcare_rating\n",
      "\n",
      "\n",
      "0.67  R^2 score for  member_exp_rating\n",
      "0.577  Rounded R^2 score for  member_exp_rating\n",
      "\n",
      "\n",
      "0.556  R^2 score for  plan_admin_rating\n",
      "0.364  Rounded R^2 score for  plan_admin_rating\n",
      "\n",
      "\n"
     ]
    }
   ],
   "source": [
    "X_pre = mdl_data[['state', 'metal', 'plan_type', 'child_only_offering', 'adult_dental', 'child_dental', 'EHB_over_premium']]\n",
    "Y = mdl_data[['overall_rating', 'medcare_rating', 'member_exp_rating', 'plan_admin_rating']]\n",
    "X = pd.get_dummies(X_pre, drop_first = True)\n",
    "\n",
    "\n",
    "for resp in Y.columns:\n",
    "    y = Y[resp]\n",
    "    X_train, X_test, y_train, y_test = train_test_split(X, y, test_size=0.25, random_state=91)\n",
    "    model = LinearRegression()\n",
    "    model.fit(X_train, y_train)\n",
    "    y_pred = model.predict(X_test)\n",
    "    y_pred_rounded = list(map(round, y_pred))\n",
    "    print(round(model.score(X, y), 3), ' R^2 score for ', resp)\n",
    "    print(round(r2_score(y_test, y_pred_rounded), 3), ' Rounded R^2 score for ', resp)\n",
    "    print('\\n')"
   ]
  },
  {
   "cell_type": "code",
   "execution_count": 46,
   "metadata": {},
   "outputs": [
    {
     "name": "stdout",
     "output_type": "stream",
     "text": [
      "0.194  LASSO R^2 score for  overall_rating\n",
      "0.311  LASSO R^2 score for  medcare_rating\n",
      "0.278  LASSO R^2 score for  member_exp_rating\n",
      "0.042  LASSO R^2 score for  plan_admin_rating\n"
     ]
    }
   ],
   "source": [
    "for resp in Y.columns:\n",
    "    y = Y[resp]\n",
    "    cv = RepeatedStratifiedKFold(n_splits=5, n_repeats = 3, random_state = 700)\n",
    "    param_grid = dict(alpha=list(np.arange(0.05, 1, .05)))\n",
    "\n",
    "    model = Lasso()\n",
    "    search = GridSearchCV(model, param_grid, scoring = 'r2', cv = cv)\n",
    "    result = search.fit(X, y)\n",
    "    print(round(result.best_score_, 3), ' LASSO R^2 score for ', resp)"
   ]
  },
  {
   "cell_type": "code",
   "execution_count": 47,
   "metadata": {},
   "outputs": [
    {
     "name": "stdout",
     "output_type": "stream",
     "text": [
      "0.779  accuracy score for  overall_rating\n",
      "Best Hyperparameters: {'multi_class': 'multinomial'}\n",
      "0.815  accuracy score for  medcare_rating\n",
      "Best Hyperparameters: {'multi_class': 'multinomial'}\n",
      "0.838  accuracy score for  member_exp_rating\n",
      "Best Hyperparameters: {'multi_class': 'multinomial'}\n",
      "0.806  accuracy score for  plan_admin_rating\n",
      "Best Hyperparameters: {'multi_class': 'multinomial'}\n"
     ]
    }
   ],
   "source": [
    "#logistic\n",
    "for resp in Y.columns:\n",
    "    y = Y[resp]\n",
    "    cv = RepeatedStratifiedKFold(n_splits=5, n_repeats = 3, random_state = 700)\n",
    "    param_grid = dict(multi_class=['ovr', 'multinomial'])\n",
    "\n",
    "    model = LogisticRegression(max_iter = 1000)\n",
    "    search = GridSearchCV(model, param_grid, scoring = 'accuracy', cv = cv)\n",
    "    result = search.fit(X, y)\n",
    "    print(round(result.best_score_, 3), ' accuracy score for ', resp)\n",
    "    print('Best Hyperparameters: %s' % result.best_params_)"
   ]
  },
  {
   "cell_type": "code",
   "execution_count": 48,
   "metadata": {},
   "outputs": [
    {
     "name": "stdout",
     "output_type": "stream",
     "text": [
      "for response variable:  overall_rating\n",
      "Best Score: 0.8688682310531051\n",
      "Best Hyperparameters: {'n_estimators': 35, 'max_depth': 22}\n",
      "for response variable:  medcare_rating\n",
      "Best Score: 0.882603639746497\n",
      "Best Hyperparameters: {'n_estimators': 37, 'max_depth': 20}\n",
      "for response variable:  member_exp_rating\n",
      "Best Score: 0.916857683244238\n",
      "Best Hyperparameters: {'n_estimators': 45, 'max_depth': 21}\n",
      "for response variable:  plan_admin_rating\n",
      "Best Score: 0.8749079118827019\n",
      "Best Hyperparameters: {'n_estimators': 54, 'max_depth': 20}\n"
     ]
    }
   ],
   "source": [
    "#Classification Random Forest\n",
    "for resp in Y.columns:\n",
    "    y = Y[resp]\n",
    "\n",
    "    cv = RepeatedStratifiedKFold(n_splits=5, n_repeats = 3, random_state = 6)\n",
    "    distributions = dict(max_depth=list(range(1,25)), n_estimators= list(range(1,100)))\n",
    "\n",
    "    rfc = RandomForestClassifier(random_state=7)\n",
    "\n",
    "    search = RandomizedSearchCV(rfc, distributions, n_iter = 250, scoring = 'accuracy', n_jobs = -1,  cv = cv, random_state = 12)\n",
    "    result = search.fit(X, y)\n",
    "\n",
    "    print('for response variable: ', resp)\n",
    "    print('Best Score: %s' % result.best_score_)\n",
    "    print('Best Hyperparameters: %s' % result.best_params_)"
   ]
  },
  {
   "cell_type": "code",
   "execution_count": 49,
   "metadata": {},
   "outputs": [
    {
     "name": "stdout",
     "output_type": "stream",
     "text": [
      "for response variable:  overall_rating\n",
      "Best Score: 0.8641925146126828\n",
      "Best Hyperparameters: {'max_depth': 24}\n",
      "\n",
      "\n"
     ]
    },
    {
     "data": {
      "image/png": "[encoded data removed]",
      "text/plain": [
       "<Figure size 432x288 with 1 Axes>"
      ]
     },
     "metadata": {
      "needs_background": "light"
     },
     "output_type": "display_data"
    },
    {
     "name": "stdout",
     "output_type": "stream",
     "text": [
      "top three features:  ['EHB_over_premium', 'state_AZ', 'state_TX']\n",
      "for response variable:  medcare_rating\n",
      "Best Score: 0.8780708864742479\n",
      "Best Hyperparameters: {'max_depth': 24}\n",
      "\n",
      "\n"
     ]
    },
    {
     "data": {
      "image/png": "[encoded data removed]",
      "text/plain": [
       "<Figure size 432x288 with 1 Axes>"
      ]
     },
     "metadata": {
      "needs_background": "light"
     },
     "output_type": "display_data"
    },
    {
     "name": "stdout",
     "output_type": "stream",
     "text": [
      "top three features:  ['state_AZ', 'EHB_over_premium', 'state_TX']\n",
      "for response variable:  member_exp_rating\n",
      "Best Score: 0.9168566571927919\n",
      "Best Hyperparameters: {'max_depth': 24}\n",
      "\n",
      "\n"
     ]
    },
    {
     "data": {
      "image/png": "[encoded data removed]",
      "text/plain": [
       "<Figure size 432x288 with 1 Axes>"
      ]
     },
     "metadata": {
      "needs_background": "light"
     },
     "output_type": "display_data"
    },
    {
     "name": "stdout",
     "output_type": "stream",
     "text": [
      "top three features:  ['plan_type_HMO', 'state_AZ', 'EHB_over_premium']\n",
      "for response variable:  plan_admin_rating\n",
      "Best Score: 0.8732392102140002\n",
      "Best Hyperparameters: {'max_depth': 18}\n",
      "\n",
      "\n"
     ]
    },
    {
     "data": {
      "image/png": "[encoded data removed]",
      "text/plain": [
       "<Figure size 432x288 with 1 Axes>"
      ]
     },
     "metadata": {
      "needs_background": "light"
     },
     "output_type": "display_data"
    },
    {
     "name": "stdout",
     "output_type": "stream",
     "text": [
      "top three features:  ['state_WI', 'state_TX', 'EHB_over_premium']\n"
     ]
    }
   ],
   "source": [
    "#decision tree\n",
    "for resp in Y.columns:\n",
    "    y = Y[resp]\n",
    "    cv = RepeatedStratifiedKFold(n_splits=5, n_repeats = 3, random_state = 4)\n",
    "    param_grid = dict(max_depth=list(range(1,25)))\n",
    "\n",
    "    clf = DecisionTreeClassifier(random_state = 20)\n",
    "    search = GridSearchCV(clf, param_grid, scoring = 'accuracy', cv = cv)\n",
    "    result = search.fit(X, y)\n",
    "    print('for response variable: ', resp)\n",
    "    print('Best Score: %s' % result.best_score_)\n",
    "    print('Best Hyperparameters: %s' % result.best_params_)\n",
    "    print('\\n')\n",
    "    \n",
    "    md = result.best_params_['max_depth']\n",
    "    clf = DecisionTreeClassifier(random_state = 20, max_depth = md).fit(X, y)\n",
    "    importance = clf.feature_importances_\n",
    "    \n",
    "    plt.figure()\n",
    "    plt.bar([x for x in range(len(importance))], importance)\n",
    "    plt.show()\n",
    "    top_3_idx = np.argsort(importance)[-3:]\n",
    "    top_3_feats = [X.columns[i] for i in top_3_idx]\n",
    "    print('top three features: ', top_3_feats)\n",
    "    "
   ]
  },
  {
   "cell_type": "code",
   "execution_count": 50,
   "metadata": {},
   "outputs": [
    {
     "data": {
      "text/plain": [
       "'state_TX'"
      ]
     },
     "execution_count": 50,
     "metadata": {},
     "output_type": "execute_result"
    }
   ],
   "source": [
    "X.columns[28]"
   ]
  },
  {
   "cell_type": "markdown",
   "metadata": {},
   "source": [
    "### PCA ###"
   ]
  },
  {
   "cell_type": "code",
   "execution_count": 51,
   "metadata": {},
   "outputs": [
    {
     "name": "stdout",
     "output_type": "stream",
     "text": [
      "[0.07345132 0.05375181 0.04220115 0.0371885  0.03405972]\n"
     ]
    }
   ],
   "source": [
    "#qhp data\n",
    "std_X = scale(X)\n",
    "\n",
    "pca = PCA()\n",
    "pca_X = pca.fit_transform(std_X)\n",
    "print(pca.explained_variance_ratio_[:5])"
   ]
  },
  {
   "cell_type": "code",
   "execution_count": 52,
   "metadata": {},
   "outputs": [
    {
     "data": {
      "image/png": "[encoded data removed]",
      "text/plain": [
       "<Figure size 432x288 with 1 Axes>"
      ]
     },
     "metadata": {
      "needs_background": "light"
     },
     "output_type": "display_data"
    }
   ],
   "source": [
    "exp_var_pca = pca.explained_variance_ratio_\n",
    "\n",
    "cum_sum_eigenvalues = np.cumsum(exp_var_pca)\n",
    "\n",
    "# Create the visualization plot\n",
    "\n",
    "plt.bar(range(0,len(exp_var_pca)), exp_var_pca, alpha=0.5, align='center', label='explained variance of each PC')\n",
    "plt.step(range(0,len(cum_sum_eigenvalues)), cum_sum_eigenvalues, where='mid',label='cumulative explained variance')\n",
    "plt.ylabel('Explained Variance Ratio')\n",
    "plt.xlabel('PC index')\n",
    "plt.legend(loc='best')\n",
    "plt.tight_layout()\n",
    "plt.show()"
   ]
  },
  {
   "cell_type": "code",
   "execution_count": 53,
   "metadata": {},
   "outputs": [
    {
     "name": "stdout",
     "output_type": "stream",
     "text": [
      "[0.52126784 0.25847885 0.19213375 0.02811956]\n"
     ]
    }
   ],
   "source": [
    "#quality data\n",
    "std_y = scale(Y)\n",
    "\n",
    "pca = PCA()\n",
    "pca_y = pca.fit_transform(std_y)\n",
    "print(pca.explained_variance_ratio_[:5])"
   ]
  },
  {
   "cell_type": "code",
   "execution_count": 54,
   "metadata": {},
   "outputs": [
    {
     "data": {
      "image/png": "[encoded data removed]",
      "text/plain": [
       "<Figure size 432x288 with 1 Axes>"
      ]
     },
     "metadata": {
      "needs_background": "light"
     },
     "output_type": "display_data"
    }
   ],
   "source": [
    "exp_var_pca = pca.explained_variance_ratio_\n",
    "\n",
    "cum_sum_eigenvalues = np.cumsum(exp_var_pca)\n",
    "\n",
    "# Create the visualization plot\n",
    "\n",
    "plt.bar(range(0,len(exp_var_pca)), exp_var_pca, alpha=0.5, align='center', label='explained variance of each PC')\n",
    "plt.step(range(0,len(cum_sum_eigenvalues)), cum_sum_eigenvalues, where='mid',label='cumulative explained variance')\n",
    "plt.ylabel('Explained Variance Ratio')\n",
    "plt.xlabel('PC index')\n",
    "plt.legend(loc='best')\n",
    "plt.tight_layout()\n",
    "plt.show()"
   ]
  },
  {
   "cell_type": "code",
   "execution_count": 55,
   "metadata": {},
   "outputs": [
    {
     "data": {
      "text/html": [
       "<div>\n",
       "<style scoped>\n",
       "    .dataframe tbody tr th:only-of-type {\n",
       "        vertical-align: middle;\n",
       "    }\n",
       "\n",
       "    .dataframe tbody tr th {\n",
       "        vertical-align: top;\n",
       "    }\n",
       "\n",
       "    .dataframe thead th {\n",
       "        text-align: right;\n",
       "    }\n",
       "</style>\n",
       "<table border=\"1\" class=\"dataframe\">\n",
       "  <thead>\n",
       "    <tr style=\"text-align: right;\">\n",
       "      <th></th>\n",
       "      <th>overall_rating</th>\n",
       "      <th>medcare_rating</th>\n",
       "      <th>member_exp_rating</th>\n",
       "      <th>plan_admin_rating</th>\n",
       "    </tr>\n",
       "  </thead>\n",
       "  <tbody>\n",
       "    <tr>\n",
       "      <th>overall_rating</th>\n",
       "      <td>1.000000</td>\n",
       "      <td>0.870514</td>\n",
       "      <td>0.223804</td>\n",
       "      <td>0.250568</td>\n",
       "    </tr>\n",
       "    <tr>\n",
       "      <th>medcare_rating</th>\n",
       "      <td>0.870514</td>\n",
       "      <td>1.000000</td>\n",
       "      <td>0.070576</td>\n",
       "      <td>0.291489</td>\n",
       "    </tr>\n",
       "    <tr>\n",
       "      <th>member_exp_rating</th>\n",
       "      <td>0.223804</td>\n",
       "      <td>0.070576</td>\n",
       "      <td>1.000000</td>\n",
       "      <td>0.222006</td>\n",
       "    </tr>\n",
       "    <tr>\n",
       "      <th>plan_admin_rating</th>\n",
       "      <td>0.250568</td>\n",
       "      <td>0.291489</td>\n",
       "      <td>0.222006</td>\n",
       "      <td>1.000000</td>\n",
       "    </tr>\n",
       "  </tbody>\n",
       "</table>\n",
       "</div>"
      ],
      "text/plain": [
       "                   overall_rating  medcare_rating  member_exp_rating  \\\n",
       "overall_rating           1.000000        0.870514           0.223804   \n",
       "medcare_rating           0.870514        1.000000           0.070576   \n",
       "member_exp_rating        0.223804        0.070576           1.000000   \n",
       "plan_admin_rating        0.250568        0.291489           0.222006   \n",
       "\n",
       "                   plan_admin_rating  \n",
       "overall_rating              0.250568  \n",
       "medcare_rating              0.291489  \n",
       "member_exp_rating           0.222006  \n",
       "plan_admin_rating           1.000000  "
      ]
     },
     "execution_count": 55,
     "metadata": {},
     "output_type": "execute_result"
    }
   ],
   "source": [
    "Y.corr()"
   ]
  },
  {
   "cell_type": "code",
   "execution_count": 56,
   "metadata": {},
   "outputs": [
    {
     "data": {
      "text/html": [
       "<div>\n",
       "<style scoped>\n",
       "    .dataframe tbody tr th:only-of-type {\n",
       "        vertical-align: middle;\n",
       "    }\n",
       "\n",
       "    .dataframe tbody tr th {\n",
       "        vertical-align: top;\n",
       "    }\n",
       "\n",
       "    .dataframe thead th {\n",
       "        text-align: right;\n",
       "    }\n",
       "</style>\n",
       "<table border=\"1\" class=\"dataframe\">\n",
       "  <thead>\n",
       "    <tr style=\"text-align: right;\">\n",
       "      <th></th>\n",
       "      <th>PC1</th>\n",
       "      <th>PC2</th>\n",
       "      <th>PC3</th>\n",
       "      <th>PC4</th>\n",
       "    </tr>\n",
       "  </thead>\n",
       "  <tbody>\n",
       "    <tr>\n",
       "      <th>overall_rating</th>\n",
       "      <td>0.924018</td>\n",
       "      <td>-0.235805</td>\n",
       "      <td>-0.189385</td>\n",
       "      <td>-0.234888</td>\n",
       "    </tr>\n",
       "    <tr>\n",
       "      <th>medcare_rating</th>\n",
       "      <td>0.907058</td>\n",
       "      <td>-0.349535</td>\n",
       "      <td>-0.028007</td>\n",
       "      <td>0.233966</td>\n",
       "    </tr>\n",
       "    <tr>\n",
       "      <th>member_exp_rating</th>\n",
       "      <td>0.358085</td>\n",
       "      <td>0.796966</td>\n",
       "      <td>-0.484711</td>\n",
       "      <td>0.046147</td>\n",
       "    </tr>\n",
       "    <tr>\n",
       "      <th>plan_admin_rating</th>\n",
       "      <td>0.530309</td>\n",
       "      <td>0.470585</td>\n",
       "      <td>0.705186</td>\n",
       "      <td>-0.022070</td>\n",
       "    </tr>\n",
       "  </tbody>\n",
       "</table>\n",
       "</div>"
      ],
      "text/plain": [
       "                        PC1       PC2       PC3       PC4\n",
       "overall_rating     0.924018 -0.235805 -0.189385 -0.234888\n",
       "medcare_rating     0.907058 -0.349535 -0.028007  0.233966\n",
       "member_exp_rating  0.358085  0.796966 -0.484711  0.046147\n",
       "plan_admin_rating  0.530309  0.470585  0.705186 -0.022070"
      ]
     },
     "execution_count": 56,
     "metadata": {},
     "output_type": "execute_result"
    }
   ],
   "source": [
    "loadings = pca.components_.T * np.sqrt(pca.explained_variance_)\n",
    "\n",
    "loading_matrix = pd.DataFrame(loadings, columns = ['PC1', 'PC2', 'PC3', 'PC4'], index = Y.columns)\n",
    "loading_matrix"
   ]
  },
  {
   "cell_type": "code",
   "execution_count": 57,
   "metadata": {},
   "outputs": [
    {
     "name": "stdout",
     "output_type": "stream",
     "text": [
      "[0.4674693  0.31071756 0.22181314]\n"
     ]
    }
   ],
   "source": [
    "#quality data for quality metrics without overall\n",
    "Y_sub = Y[Y.columns[1:]]\n",
    "\n",
    "std_y = scale(Y_sub)\n",
    "\n",
    "pca = PCA()\n",
    "pca_y = pca.fit_transform(std_y)\n",
    "print(pca.explained_variance_ratio_[:5])"
   ]
  },
  {
   "cell_type": "code",
   "execution_count": 58,
   "metadata": {},
   "outputs": [
    {
     "data": {
      "image/png": "[encoded data removed]",
      "text/plain": [
       "<Figure size 432x288 with 1 Axes>"
      ]
     },
     "metadata": {
      "needs_background": "light"
     },
     "output_type": "display_data"
    }
   ],
   "source": [
    "exp_var_pca = pca.explained_variance_ratio_\n",
    "\n",
    "cum_sum_eigenvalues = np.cumsum(exp_var_pca)\n",
    "\n",
    "# Create the visualization plot\n",
    "\n",
    "plt.bar(range(0,len(exp_var_pca)), exp_var_pca, alpha=0.5, align='center', label='explained variance of each PC')\n",
    "plt.step(range(0,len(cum_sum_eigenvalues)), cum_sum_eigenvalues, where='mid',label='cumulative explained variance')\n",
    "plt.ylabel('Explained Variance Ratio')\n",
    "plt.xlabel('PC index')\n",
    "plt.legend(loc='best')\n",
    "plt.tight_layout()\n",
    "plt.show()"
   ]
  },
  {
   "cell_type": "code",
   "execution_count": 59,
   "metadata": {},
   "outputs": [
    {
     "data": {
      "text/html": [
       "<div>\n",
       "<style scoped>\n",
       "    .dataframe tbody tr th:only-of-type {\n",
       "        vertical-align: middle;\n",
       "    }\n",
       "\n",
       "    .dataframe tbody tr th {\n",
       "        vertical-align: top;\n",
       "    }\n",
       "\n",
       "    .dataframe thead th {\n",
       "        text-align: right;\n",
       "    }\n",
       "</style>\n",
       "<table border=\"1\" class=\"dataframe\">\n",
       "  <thead>\n",
       "    <tr style=\"text-align: right;\">\n",
       "      <th></th>\n",
       "      <th>medcare_rating</th>\n",
       "      <th>member_exp_rating</th>\n",
       "      <th>plan_admin_rating</th>\n",
       "    </tr>\n",
       "  </thead>\n",
       "  <tbody>\n",
       "    <tr>\n",
       "      <th>medcare_rating</th>\n",
       "      <td>1.000000</td>\n",
       "      <td>0.070576</td>\n",
       "      <td>0.291489</td>\n",
       "    </tr>\n",
       "    <tr>\n",
       "      <th>member_exp_rating</th>\n",
       "      <td>0.070576</td>\n",
       "      <td>1.000000</td>\n",
       "      <td>0.222006</td>\n",
       "    </tr>\n",
       "    <tr>\n",
       "      <th>plan_admin_rating</th>\n",
       "      <td>0.291489</td>\n",
       "      <td>0.222006</td>\n",
       "      <td>1.000000</td>\n",
       "    </tr>\n",
       "  </tbody>\n",
       "</table>\n",
       "</div>"
      ],
      "text/plain": [
       "                   medcare_rating  member_exp_rating  plan_admin_rating\n",
       "medcare_rating           1.000000           0.070576           0.291489\n",
       "member_exp_rating        0.070576           1.000000           0.222006\n",
       "plan_admin_rating        0.291489           0.222006           1.000000"
      ]
     },
     "execution_count": 59,
     "metadata": {},
     "output_type": "execute_result"
    }
   ],
   "source": [
    "Y_sub.corr()"
   ]
  },
  {
   "cell_type": "code",
   "execution_count": 60,
   "metadata": {},
   "outputs": [
    {
     "data": {
      "text/html": [
       "<div>\n",
       "<style scoped>\n",
       "    .dataframe tbody tr th:only-of-type {\n",
       "        vertical-align: middle;\n",
       "    }\n",
       "\n",
       "    .dataframe tbody tr th {\n",
       "        vertical-align: top;\n",
       "    }\n",
       "\n",
       "    .dataframe thead th {\n",
       "        text-align: right;\n",
       "    }\n",
       "</style>\n",
       "<table border=\"1\" class=\"dataframe\">\n",
       "  <thead>\n",
       "    <tr style=\"text-align: right;\">\n",
       "      <th></th>\n",
       "      <th>PC1</th>\n",
       "      <th>PC2</th>\n",
       "      <th>PC3</th>\n",
       "    </tr>\n",
       "  </thead>\n",
       "  <tbody>\n",
       "    <tr>\n",
       "      <th>medcare_rating</th>\n",
       "      <td>0.675307</td>\n",
       "      <td>-0.576401</td>\n",
       "      <td>-0.460624</td>\n",
       "    </tr>\n",
       "    <tr>\n",
       "      <th>member_exp_rating</th>\n",
       "      <td>0.558207</td>\n",
       "      <td>0.772999</td>\n",
       "      <td>-0.302209</td>\n",
       "    </tr>\n",
       "    <tr>\n",
       "      <th>plan_admin_rating</th>\n",
       "      <td>0.797125</td>\n",
       "      <td>-0.052997</td>\n",
       "      <td>0.601860</td>\n",
       "    </tr>\n",
       "  </tbody>\n",
       "</table>\n",
       "</div>"
      ],
      "text/plain": [
       "                        PC1       PC2       PC3\n",
       "medcare_rating     0.675307 -0.576401 -0.460624\n",
       "member_exp_rating  0.558207  0.772999 -0.302209\n",
       "plan_admin_rating  0.797125 -0.052997  0.601860"
      ]
     },
     "execution_count": 60,
     "metadata": {},
     "output_type": "execute_result"
    }
   ],
   "source": [
    "loadings = pca.components_.T * np.sqrt(pca.explained_variance_)\n",
    "\n",
    "loading_matrix = pd.DataFrame(loadings, columns = ['PC1', 'PC2', 'PC3'], index = Y_sub.columns)\n",
    "loading_matrix"
   ]
  },
  {
   "cell_type": "markdown",
   "metadata": {},
   "source": [
    "### Quality Metrics ###"
   ]
  },
  {
   "cell_type": "code",
   "execution_count": 61,
   "metadata": {},
   "outputs": [
    {
     "data": {
      "text/html": [
       "<div>\n",
       "<style scoped>\n",
       "    .dataframe tbody tr th:only-of-type {\n",
       "        vertical-align: middle;\n",
       "    }\n",
       "\n",
       "    .dataframe tbody tr th {\n",
       "        vertical-align: top;\n",
       "    }\n",
       "\n",
       "    .dataframe thead th {\n",
       "        text-align: right;\n",
       "    }\n",
       "</style>\n",
       "<table border=\"1\" class=\"dataframe\">\n",
       "  <thead>\n",
       "    <tr style=\"text-align: right;\">\n",
       "      <th></th>\n",
       "      <th>overall_rating</th>\n",
       "      <th>medcare_rating</th>\n",
       "      <th>member_exp_rating</th>\n",
       "      <th>plan_admin_rating</th>\n",
       "    </tr>\n",
       "  </thead>\n",
       "  <tbody>\n",
       "    <tr>\n",
       "      <th>overall_rating</th>\n",
       "      <td>1.000000</td>\n",
       "      <td>0.879154</td>\n",
       "      <td>0.128936</td>\n",
       "      <td>0.265582</td>\n",
       "    </tr>\n",
       "    <tr>\n",
       "      <th>medcare_rating</th>\n",
       "      <td>0.879154</td>\n",
       "      <td>1.000000</td>\n",
       "      <td>0.000712</td>\n",
       "      <td>0.318390</td>\n",
       "    </tr>\n",
       "    <tr>\n",
       "      <th>member_exp_rating</th>\n",
       "      <td>0.128936</td>\n",
       "      <td>0.000712</td>\n",
       "      <td>1.000000</td>\n",
       "      <td>0.196289</td>\n",
       "    </tr>\n",
       "    <tr>\n",
       "      <th>plan_admin_rating</th>\n",
       "      <td>0.265582</td>\n",
       "      <td>0.318390</td>\n",
       "      <td>0.196289</td>\n",
       "      <td>1.000000</td>\n",
       "    </tr>\n",
       "  </tbody>\n",
       "</table>\n",
       "</div>"
      ],
      "text/plain": [
       "                   overall_rating  medcare_rating  member_exp_rating  \\\n",
       "overall_rating           1.000000        0.879154           0.128936   \n",
       "medcare_rating           0.879154        1.000000           0.000712   \n",
       "member_exp_rating        0.128936        0.000712           1.000000   \n",
       "plan_admin_rating        0.265582        0.318390           0.196289   \n",
       "\n",
       "                   plan_admin_rating  \n",
       "overall_rating              0.265582  \n",
       "medcare_rating              0.318390  \n",
       "member_exp_rating           0.196289  \n",
       "plan_admin_rating           1.000000  "
      ]
     },
     "execution_count": 61,
     "metadata": {},
     "output_type": "execute_result"
    }
   ],
   "source": [
    "for qual in quality_metrics:\n",
    "    qual_data[qual] = str2int(qual_data[qual])\n",
    "ratings = qual_data[['overall_rating', 'medcare_rating', 'member_exp_rating', 'plan_admin_rating']]\n",
    "ratings.corr()"
   ]
  },
  {
   "cell_type": "code",
   "execution_count": 81,
   "metadata": {},
   "outputs": [
    {
     "data": {
      "text/html": [
       "<table class=\"simpletable\">\n",
       "<caption>OLS Regression Results</caption>\n",
       "<tr>\n",
       "  <th>Dep. Variable:</th>     <td>overall_rating</td>  <th>  R-squared:         </th> <td>   0.791</td>\n",
       "</tr>\n",
       "<tr>\n",
       "  <th>Model:</th>                   <td>OLS</td>       <th>  Adj. R-squared:    </th> <td>   0.791</td>\n",
       "</tr>\n",
       "<tr>\n",
       "  <th>Method:</th>             <td>Least Squares</td>  <th>  F-statistic:       </th> <td>   5177.</td>\n",
       "</tr>\n",
       "<tr>\n",
       "  <th>Date:</th>             <td>Thu, 20 Apr 2023</td> <th>  Prob (F-statistic):</th>  <td>  0.00</td> \n",
       "</tr>\n",
       "<tr>\n",
       "  <th>Time:</th>                 <td>01:31:13</td>     <th>  Log-Likelihood:    </th> <td> -1243.5</td>\n",
       "</tr>\n",
       "<tr>\n",
       "  <th>No. Observations:</th>      <td>  4103</td>      <th>  AIC:               </th> <td>   2495.</td>\n",
       "</tr>\n",
       "<tr>\n",
       "  <th>Df Residuals:</th>          <td>  4099</td>      <th>  BIC:               </th> <td>   2520.</td>\n",
       "</tr>\n",
       "<tr>\n",
       "  <th>Df Model:</th>              <td>     3</td>      <th>                     </th>     <td> </td>   \n",
       "</tr>\n",
       "<tr>\n",
       "  <th>Covariance Type:</th>      <td>nonrobust</td>    <th>                     </th>     <td> </td>   \n",
       "</tr>\n",
       "</table>\n",
       "<table class=\"simpletable\">\n",
       "<tr>\n",
       "          <td></td>             <th>coef</th>     <th>std err</th>      <th>t</th>      <th>P>|t|</th>  <th>[0.025</th>    <th>0.975]</th>  \n",
       "</tr>\n",
       "<tr>\n",
       "  <th>const</th>             <td>    1.0356</td> <td>    0.037</td> <td>   28.131</td> <td> 0.000</td> <td>    0.963</td> <td>    1.108</td>\n",
       "</tr>\n",
       "<tr>\n",
       "  <th>medcare_rating</th>    <td>    0.6734</td> <td>    0.006</td> <td>  118.432</td> <td> 0.000</td> <td>    0.662</td> <td>    0.685</td>\n",
       "</tr>\n",
       "<tr>\n",
       "  <th>member_exp_rating</th> <td>    0.1443</td> <td>    0.008</td> <td>   18.822</td> <td> 0.000</td> <td>    0.129</td> <td>    0.159</td>\n",
       "</tr>\n",
       "<tr>\n",
       "  <th>plan_admin_rating</th> <td>   -0.0557</td> <td>    0.009</td> <td>   -5.965</td> <td> 0.000</td> <td>   -0.074</td> <td>   -0.037</td>\n",
       "</tr>\n",
       "</table>\n",
       "<table class=\"simpletable\">\n",
       "<tr>\n",
       "  <th>Omnibus:</th>       <td>446.352</td> <th>  Durbin-Watson:     </th> <td>   0.064</td> \n",
       "</tr>\n",
       "<tr>\n",
       "  <th>Prob(Omnibus):</th> <td> 0.000</td>  <th>  Jarque-Bera (JB):  </th> <td> 601.245</td> \n",
       "</tr>\n",
       "<tr>\n",
       "  <th>Skew:</th>          <td>-0.905</td>  <th>  Prob(JB):          </th> <td>2.76e-131</td>\n",
       "</tr>\n",
       "<tr>\n",
       "  <th>Kurtosis:</th>      <td> 3.494</td>  <th>  Cond. No.          </th> <td>    42.6</td> \n",
       "</tr>\n",
       "</table><br/><br/>Notes:<br/>[1] Standard Errors assume that the covariance matrix of the errors is correctly specified."
      ],
      "text/plain": [
       "<class 'statsmodels.iolib.summary.Summary'>\n",
       "\"\"\"\n",
       "                            OLS Regression Results                            \n",
       "==============================================================================\n",
       "Dep. Variable:         overall_rating   R-squared:                       0.791\n",
       "Model:                            OLS   Adj. R-squared:                  0.791\n",
       "Method:                 Least Squares   F-statistic:                     5177.\n",
       "Date:                Thu, 20 Apr 2023   Prob (F-statistic):               0.00\n",
       "Time:                        01:31:13   Log-Likelihood:                -1243.5\n",
       "No. Observations:                4103   AIC:                             2495.\n",
       "Df Residuals:                    4099   BIC:                             2520.\n",
       "Df Model:                           3                                         \n",
       "Covariance Type:            nonrobust                                         \n",
       "=====================================================================================\n",
       "                        coef    std err          t      P>|t|      [0.025      0.975]\n",
       "-------------------------------------------------------------------------------------\n",
       "const                 1.0356      0.037     28.131      0.000       0.963       1.108\n",
       "medcare_rating        0.6734      0.006    118.432      0.000       0.662       0.685\n",
       "member_exp_rating     0.1443      0.008     18.822      0.000       0.129       0.159\n",
       "plan_admin_rating    -0.0557      0.009     -5.965      0.000      -0.074      -0.037\n",
       "==============================================================================\n",
       "Omnibus:                      446.352   Durbin-Watson:                   0.064\n",
       "Prob(Omnibus):                  0.000   Jarque-Bera (JB):              601.245\n",
       "Skew:                          -0.905   Prob(JB):                    2.76e-131\n",
       "Kurtosis:                       3.494   Cond. No.                         42.6\n",
       "==============================================================================\n",
       "\n",
       "Notes:\n",
       "[1] Standard Errors assume that the covariance matrix of the errors is correctly specified.\n",
       "\"\"\""
      ]
     },
     "execution_count": 81,
     "metadata": {},
     "output_type": "execute_result"
    }
   ],
   "source": [
    "X = sm.add_constant(ratings[['medcare_rating', 'member_exp_rating', 'plan_admin_rating']])\n",
    "y = ratings['overall_rating']\n",
    "#X['med_sq'] = X['medcare_rating'] * X['medcare_rating']\n",
    "#X['memb_sq'] = X['member_exp_rating'] * X['member_exp_rating']\n",
    "#X['plan_sq'] = X['plan_admin_rating'] * X['plan_admin_rating']\n",
    "\n",
    "#X['med_cub'] = X['med_sq'] * X['medcare_rating']\n",
    "#X['memb_cub'] = X['memb_sq'] * X['member_exp_rating']\n",
    "#X['plan_cub'] = X['plan_sq'] * X['plan_admin_rating']\n",
    "\n",
    "model = sm.OLS(y, X)\n",
    "\n",
    "res = model.fit()\n",
    "res.summary()"
   ]
  },
  {
   "cell_type": "code",
   "execution_count": 82,
   "metadata": {},
   "outputs": [
    {
     "data": {
      "text/plain": [
       "0.8259996232960212"
      ]
     },
     "execution_count": 82,
     "metadata": {},
     "output_type": "execute_result"
    }
   ],
   "source": [
    "y_pred_rounded = list(map(round, res.predict()))\n",
    "r2_score(y, y_pred_rounded)"
   ]
  },
  {
   "cell_type": "code",
   "execution_count": 83,
   "metadata": {},
   "outputs": [
    {
     "data": {
      "text/plain": [
       "0.7911875823427034"
      ]
     },
     "execution_count": 83,
     "metadata": {},
     "output_type": "execute_result"
    }
   ],
   "source": [
    "r2_score(y, res.predict())"
   ]
  },
  {
   "cell_type": "code",
   "execution_count": null,
   "metadata": {},
   "outputs": [],
   "source": []
  }
 ],
 "metadata": {
  "kernelspec": {
   "display_name": "Python 3",
   "language": "python",
   "name": "python3"
  },
  "language_info": {
   "codemirror_mode": {
    "name": "ipython",
    "version": 3
   },
   "file_extension": ".py",
   "mimetype": "text/x-python",
   "name": "python",
   "nbconvert_exporter": "python",
   "pygments_lexer": "ipython3",
   "version": "3.7.6"
  }
 },
 "nbformat": 4,
 "nbformat_minor": 4
}
